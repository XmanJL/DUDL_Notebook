{
  "cells": [
    {
      "cell_type": "markdown",
      "metadata": {
        "id": "bhWV8oes-wKR"
      },
      "source": [
        "# COURSE: A deep understanding of deep learning\n",
        "## SECTION: Running models on a GPU\n",
        "### LECTURE: Implementation\n",
        "#### TEACHER: Mike X Cohen, sincxpress.com\n",
        "##### COURSE URL: udemy.com/course/deeplearning_x/?couponCode=202401\n",
        "##### Modified from original code"
      ]
    },
    {
      "cell_type": "code",
      "execution_count": null,
      "metadata": {
        "id": "YeuAheYyhdZw"
      },
      "outputs": [],
      "source": [
        "# import libraries\n",
        "import torch\n",
        "import torch.nn as nn\n",
        "import matplotlib.pyplot as plt\n",
        "import time"
      ]
    },
    {
      "cell_type": "markdown",
      "metadata": {
        "id": "g0O-zq4UiM0P"
      },
      "source": [
        "# Select the processor device"
      ]
    },
    {
      "cell_type": "code",
      "execution_count": null,
      "metadata": {
        "id": "03MycVnQiRqO"
      },
      "outputs": [],
      "source": [
        "## Only works on collab\n",
        "## Note: To run models on a GPU you must select from the menu:\n",
        "#   -> Runtime\n",
        "#     -> Change runtime type\n",
        "#       -> Hardware accelerator\n",
        "#         -> GPU"
      ]
    },
    {
      "cell_type": "code",
      "execution_count": null,
      "metadata": {
        "id": "cThPRuj_iJA2",
        "colab": {
          "base_uri": "https://localhost:8080/"
        },
        "outputId": "b2856246-d972-4832-b105-952905cfa187"
      },
      "outputs": [
        {
          "output_type": "stream",
          "name": "stdout",
          "text": [
            "cuda:0\n"
          ]
        }
      ],
      "source": [
        "# use GPU\n",
        "device = torch.device('cuda:0' if torch.cuda.is_available() else 'cpu')\n",
        "print(device)"
      ]
    },
    {
      "cell_type": "markdown",
      "metadata": {
        "id": "rcumdem5jtiD"
      },
      "source": [
        "# Build a simple model"
      ]
    },
    {
      "cell_type": "code",
      "execution_count": null,
      "metadata": {
        "id": "AMi1lQWOj09S"
      },
      "outputs": [],
      "source": [
        "net = nn.Sequential(\n",
        "    nn.Linear(20,100),\n",
        "    nn.ReLU(),\n",
        "    nn.Linear(100,500),\n",
        "    nn.ReLU(),\n",
        "    nn.Linear(500,30),\n",
        "    nn.ReLU(),\n",
        "    nn.Linear(30,2)\n",
        "      )"
      ]
    },
    {
      "cell_type": "markdown",
      "metadata": {
        "id": "TTfiVpw5j6Mq"
      },
      "source": [
        "# Make some data"
      ]
    },
    {
      "cell_type": "code",
      "execution_count": null,
      "metadata": {
        "id": "A_AGHhXDj1UN"
      },
      "outputs": [],
      "source": [
        "# just some random fluff\n",
        "data   = torch.randn((1000,20)) # samples X features\n",
        "labels = torch.randint(low=0,high=2,size=(1,1000))"
      ]
    },
    {
      "cell_type": "markdown",
      "metadata": {
        "id": "laT9cpQcmA1l"
      },
      "source": [
        "# Send the model and the data to the GPU"
      ]
    },
    {
      "cell_type": "code",
      "execution_count": null,
      "metadata": {
        "id": "nQzP_FXLj1QW"
      },
      "outputs": [],
      "source": [
        "# model -> cuda:0 gpu\n",
        "net.to(device)\n",
        "\n",
        "# data -> cuda:0 gpu\n",
        "data   = data.to(device)\n",
        "labels = labels.to(device)"
      ]
    },
    {
      "cell_type": "code",
      "execution_count": null,
      "metadata": {
        "id": "b-uDroB7jPBe",
        "colab": {
          "base_uri": "https://localhost:8080/"
        },
        "outputId": "592838e2-7884-4c5c-8aa2-1abff27dda29"
      },
      "outputs": [
        {
          "output_type": "execute_result",
          "data": {
            "text/plain": [
              "tensor([[ 0.2070, -1.5453, -0.2766,  ...,  1.4389,  0.1884,  1.2684],\n",
              "        [-0.7026,  0.4262,  0.4774,  ..., -1.8025,  1.0231,  0.8467],\n",
              "        [-1.0323,  1.5163, -0.4411,  ...,  0.5583,  0.0083, -0.6346],\n",
              "        ...,\n",
              "        [-1.6789, -0.0676, -0.1479,  ..., -0.3478, -0.7044,  0.9970],\n",
              "        [ 1.2507, -0.2502, -0.3814,  ...,  1.3686, -0.5966,  0.5638],\n",
              "        [ 0.7268,  0.9651,  1.3692,  ..., -0.4952, -0.8962, -0.3075]],\n",
              "       device='cuda:0')"
            ]
          },
          "metadata": {},
          "execution_count": 7
        }
      ],
      "source": [
        "data"
      ]
    },
    {
      "cell_type": "code",
      "execution_count": null,
      "metadata": {
        "id": "kCg4D6Hlfkgb",
        "colab": {
          "base_uri": "https://localhost:8080/"
        },
        "outputId": "2f3fde7d-237a-4d4b-9a66-bccd7648f406"
      },
      "outputs": [
        {
          "output_type": "stream",
          "name": "stdout",
          "text": [
            "cuda:0\n",
            "cuda:0\n",
            "cpu\n"
          ]
        }
      ],
      "source": [
        "# you can also create data directly on the GPU\n",
        "dataG = torch.randn((1000,20),device=device)\n",
        "dataC = torch.randn((1000,20),device='cpu')\n",
        "\n",
        "print(data.device)\n",
        "print(dataG.device)\n",
        "print(dataC.device)"
      ]
    },
    {
      "cell_type": "markdown",
      "metadata": {
        "id": "9yrwlRyQj1dF"
      },
      "source": [
        "# Getting results from the model"
      ]
    },
    {
      "cell_type": "code",
      "execution_count": null,
      "metadata": {
        "id": "tryFiNSej1gF"
      },
      "outputs": [],
      "source": [
        "output = net(data)"
      ]
    },
    {
      "cell_type": "code",
      "execution_count": null,
      "metadata": {
        "id": "_0-0zxQOj1it",
        "colab": {
          "base_uri": "https://localhost:8080/"
        },
        "outputId": "55ec645c-04ef-4eb6-e1bd-e45c6be0e726"
      },
      "outputs": [
        {
          "output_type": "execute_result",
          "data": {
            "text/plain": [
              "device(type='cuda', index=0)"
            ]
          },
          "metadata": {},
          "execution_count": 10
        }
      ],
      "source": [
        "output.device"
      ]
    },
    {
      "cell_type": "code",
      "execution_count": null,
      "metadata": {
        "id": "DQVKoRmWmUm5",
        "colab": {
          "base_uri": "https://localhost:8080/",
          "height": 435
        },
        "outputId": "0f109ead-d955-43f9-8a45-a3af3c1443a1"
      },
      "outputs": [
        {
          "output_type": "display_data",
          "data": {
            "text/plain": [
              "<Figure size 640x480 with 1 Axes>"
            ],
            "image/png": "[encoded data removed]"
          },
          "metadata": {}
        }
      ],
      "source": [
        "# try to plot the data\n",
        "# plt.plot(output.detach()); # not gonna work bc data is sitting on gpu\n",
        "\n",
        "plt.plot(output.detach().cpu());"
      ]
    },
    {
      "cell_type": "markdown",
      "metadata": {
        "id": "VcNrG3HRnwms"
      },
      "source": [
        "# Experiment: Computation time"
      ]
    },
    {
      "cell_type": "code",
      "execution_count": null,
      "metadata": {
        "id": "4lJBOELHnyJf"
      },
      "outputs": [],
      "source": [
        "# start the clock\n",
        "starttime = time.process_time()\n",
        "\n",
        "# move, run, retrieve\n",
        "device = 'cuda:0'\n",
        "net.to(device)\n",
        "data   = data.to(device)\n",
        "labels = labels.to(device)\n",
        "output = net(data).detach().cpu()\n",
        "\n",
        "# stop the clock\n",
        "GPUtime = 1000*(time.process_time() - starttime)"
      ]
    },
    {
      "cell_type": "code",
      "execution_count": null,
      "metadata": {
        "id": "a3o-SgmMnyMG"
      },
      "outputs": [],
      "source": [
        "# start the clock\n",
        "starttime = time.process_time()\n",
        "\n",
        "# move, run, retrieve\n",
        "device = 'cpu'\n",
        "net.to(device)\n",
        "data   = data.to(device)\n",
        "labels = labels.to(device)\n",
        "output = net(data).detach().cpu()\n",
        "\n",
        "# stop the clock\n",
        "CPUtime = 1000*(time.process_time() - starttime)"
      ]
    },
    {
      "cell_type": "code",
      "execution_count": null,
      "metadata": {
        "id": "hzYccKwjnyOw",
        "colab": {
          "base_uri": "https://localhost:8080/"
        },
        "outputId": "202feefd-954f-40a1-cbbd-4e55c584134f"
      },
      "outputs": [
        {
          "output_type": "execute_result",
          "data": {
            "text/plain": [
              "[9.162425000000418, 2.6796249999998523]"
            ]
          },
          "metadata": {},
          "execution_count": 14
        }
      ],
      "source": [
        "# time in ms\n",
        "[CPUtime,GPUtime]"
      ]
    },
    {
      "cell_type": "code",
      "execution_count": null,
      "metadata": {
        "id": "Bo5dt4Nipprn"
      },
      "outputs": [],
      "source": [
        "# but maybe \"sending\" it to the CPU takes too much overhead?"
      ]
    },
    {
      "cell_type": "code",
      "execution_count": null,
      "metadata": {
        "id": "J-NvS5tvnyRX",
        "colab": {
          "base_uri": "https://localhost:8080/"
        },
        "outputId": "64c1c935-4bf8-4aea-a5e6-87d6045e80da"
      },
      "outputs": [
        {
          "output_type": "execute_result",
          "data": {
            "text/plain": [
              "[6.00711399999998, 9.162425000000418, 2.6796249999998523]"
            ]
          },
          "metadata": {},
          "execution_count": 16
        }
      ],
      "source": [
        "# recreate network and data\n",
        "net  = nn.Sequential(nn.Linear(20,100),nn.ReLU(),nn.Linear(100,500),nn.ReLU(),nn.Linear(500,30),nn.ReLU(),nn.Linear(30,2))\n",
        "data = torch.randn((1000,20))\n",
        "\n",
        "# rerun the experiment\n",
        "starttime = time.process_time()\n",
        "output    = net(data).detach()\n",
        "CPUtime2  = 1000*(time.process_time() - starttime)\n",
        "\n",
        "# report the results\n",
        "[CPUtime2,CPUtime,GPUtime]\n",
        "\n",
        "# There aren't that many gains in simple problems\n",
        "# But once you get to complex models & data (CNN problems), it will help substantially"
      ]
    },
    {
      "cell_type": "code",
      "execution_count": null,
      "metadata": {
        "id": "dJ1p2lXWkSdl"
      },
      "outputs": [],
      "source": []
    }
  ],
  "metadata": {
    "accelerator": "GPU",
    "colab": {
      "provenance": [],
      "toc_visible": true,
      "gpuType": "T4"
    },
    "kernelspec": {
      "display_name": "Python 3",
      "name": "python3"
    },
    "language_info": {
      "codemirror_mode": {
        "name": "ipython",
        "version": 3
      },
      "file_extension": ".py",
      "mimetype": "text/x-python",
      "name": "python",
      "nbconvert_exporter": "python",
      "pygments_lexer": "ipython3",
      "version": "3.12.7"
    }
  },
  "nbformat": 4,
  "nbformat_minor": 0
}