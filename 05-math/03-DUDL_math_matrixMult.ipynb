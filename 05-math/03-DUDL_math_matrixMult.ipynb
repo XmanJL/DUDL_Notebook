{
 "cells": [
  {
   "cell_type": "markdown",
   "metadata": {
    "id": "bhWV8oes-wKR"
   },
   "source": [
    "# COURSE: A deep understanding of deep learning\n",
    "## SECTION: Math prerequisites\n",
    "### LECTURE: Matrix multiplication\n",
    "#### TEACHER: Mike X Cohen, sincxpress.com\n",
    "##### COURSE URL: udemy.com/course/deeplearning_x/?couponCode=202401\n",
    "##### Modified from original code"
   ]
  },
  {
   "cell_type": "code",
   "execution_count": 1,
   "metadata": {
    "id": "vRQNyNtlDoOb"
   },
   "outputs": [],
   "source": [
    "# import libraries\n",
    "import numpy as np\n",
    "import torch"
   ]
  },
  {
   "cell_type": "markdown",
   "metadata": {
    "id": "K0BSQG0fDpt_"
   },
   "source": [
    "# Using numpy"
   ]
  },
  {
   "cell_type": "code",
   "execution_count": 3,
   "metadata": {
    "id": "T4_veEYqDpx9"
   },
   "outputs": [
    {
     "name": "stdout",
     "output_type": "stream",
     "text": [
      "[[ 0.41  0.76 -1.42  2.1  -1.72]\n",
      " [ 1.68  2.56 -1.64  1.94 -1.23]\n",
      " [ 0.52  1.93  0.28  0.89  0.09]]\n",
      " \n",
      "[[-0.58  0.37  3.09  1.44]\n",
      " [ 0.46  0.72 -3.12 -0.84]\n",
      " [-0.15  0.68  0.68  0.82]\n",
      " [ 1.94 -2.1  -5.62 -0.52]\n",
      " [ 0.18  1.42 -2.33 -0.39]\n",
      " [ 0.41 -2.48  1.33  0.59]\n",
      " [-1.83  4.42  1.82 -0.9 ]]\n"
     ]
    }
   ],
   "source": [
    "# create some random matrices\n",
    "A = np.random.randn(3,4)\n",
    "B = np.random.randn(4,5)\n",
    "C = np.random.randn(3,7)\n",
    "\n",
    "# try some matrix multiplications by the @ operator ...\n",
    "print(np.round( A@B   ,2)), print(' ')\n",
    "# print(np.round( A@C   ,2)), print(' ')\n",
    "# print(np.round( B@C   ,2)), print(' ')\n",
    "print(np.round( C.T@A ,2))"
   ]
  },
  {
   "cell_type": "markdown",
   "metadata": {
    "id": "89qsNy19Dp1U"
   },
   "source": [
    "# Using pytorch"
   ]
  },
  {
   "cell_type": "code",
   "execution_count": 5,
   "metadata": {
    "id": "4Yrdf4WOEjxz"
   },
   "outputs": [
    {
     "name": "stdout",
     "output_type": "stream",
     "text": [
      "tensor([[-2.0900, -1.1800,  0.8300,  0.4800,  1.8300, -1.4900,  5.1900],\n",
      "        [-1.4400, -1.2600,  0.1700, -0.9000, -1.7400, -0.0700,  1.1100],\n",
      "        [ 1.5300,  1.0400,  0.0800,  0.5000, -1.0800,  0.5100, -3.0700]],\n",
      "       dtype=torch.float64)\n",
      " \n",
      "tensor([[-2.0900, -1.1800,  0.8300,  0.4800,  1.8300, -1.4900,  5.1900],\n",
      "        [-1.4400, -1.2600,  0.1700, -0.9000, -1.7400, -0.0700,  1.1100],\n",
      "        [ 1.5300,  1.0400,  0.0800,  0.5000, -1.0800,  0.5100, -3.0700]])\n"
     ]
    }
   ],
   "source": [
    "# create some random matrices\n",
    "A  = torch.randn(3,4) \n",
    "B  = torch.randn(4,5)\n",
    "C1 = np.random.randn(4,7)\n",
    "C2 = torch.tensor( C1,dtype=torch.float ) #create tensor from numpy\n",
    "\n",
    "# try some multiplications...\n",
    "# print(np.round( A@B   ,2)), print(' ')\n",
    "# print(np.round( A@B.T ,2)), print(' ')\n",
    "print(np.round( A@C1  ,2)), print(' ') # note tensor * ndarray is doable\n",
    "print(np.round( A@C2  ,2))"
   ]
  },
  {
   "cell_type": "code",
   "execution_count": null,
   "metadata": {},
   "outputs": [],
   "source": []
  }
 ],
 "metadata": {
  "colab": {
   "authorship_tag": "ABX9TyN3xNttY0efRLiZkxgkBGe2",
   "collapsed_sections": [],
   "name": "DUDL_math_matrixMult.ipynb",
   "provenance": []
  },
  "kernelspec": {
   "display_name": "Python 3 (ipykernel)",
   "language": "python",
   "name": "python3"
  },
  "language_info": {
   "codemirror_mode": {
    "name": "ipython",
    "version": 3
   },
   "file_extension": ".py",
   "mimetype": "text/x-python",
   "name": "python",
   "nbconvert_exporter": "python",
   "pygments_lexer": "ipython3",
   "version": "3.12.7"
  }
 },
 "nbformat": 4,
 "nbformat_minor": 4
}
