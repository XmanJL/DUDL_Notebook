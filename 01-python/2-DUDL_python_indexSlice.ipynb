{
 "cells": [
  {
   "cell_type": "markdown",
   "metadata": {
    "id": "TTe7qlQAqZ6E"
   },
   "source": [
    "# COURSE: A deep understanding of deep learning\n",
    "## SECTION: Introduction to Python: indexing and slicing\n",
    "#### TEACHER: Mike X Cohen, sincxpress.com\n",
    "##### COURSE URL: udemy.com/course/deeplearning_x/?couponCode=202212\n",
    "##### Modified from original code"
   ]
  },
  {
   "cell_type": "markdown",
   "metadata": {
    "id": "r1TPQmplqZ6F"
   },
   "source": [
    "# .\n",
    "# .\n",
    "# ."
   ]
  },
  {
   "cell_type": "markdown",
   "metadata": {
    "id": "bFhcvFHMqZ6H"
   },
   "source": [
    "# VIDEO: Indexing"
   ]
  },
  {
   "cell_type": "code",
   "execution_count": 23,
   "metadata": {
    "id": "ngLfMelpqZ6I"
   },
   "outputs": [
    {
     "data": {
      "text/plain": [
       "range(0, 5)"
      ]
     },
     "execution_count": 23,
     "metadata": {},
     "output_type": "execute_result"
    }
   ],
   "source": [
    "arange = range(5)\n",
    "\n",
    "arange"
   ]
  },
  {
   "cell_type": "code",
   "execution_count": 24,
   "metadata": {
    "id": "CS9RWMblqZ6O"
   },
   "outputs": [
    {
     "data": {
      "text/plain": [
       "[0, 1, 2, 3, 4]"
      ]
     },
     "execution_count": 24,
     "metadata": {},
     "output_type": "execute_result"
    }
   ],
   "source": [
    "alist = list(arange)\n",
    "alist"
   ]
  },
  {
   "cell_type": "code",
   "execution_count": 25,
   "metadata": {
    "id": "qJfmnSGSqZ6R"
   },
   "outputs": [
    {
     "data": {
      "text/plain": [
       "1"
      ]
     },
     "execution_count": 25,
     "metadata": {},
     "output_type": "execute_result"
    }
   ],
   "source": [
    "alist[1]"
   ]
  },
  {
   "cell_type": "code",
   "execution_count": 26,
   "metadata": {
    "id": "BltB97ytqZ6U"
   },
   "outputs": [
    {
     "data": {
      "text/plain": [
       "4"
      ]
     },
     "execution_count": 26,
     "metadata": {},
     "output_type": "execute_result"
    }
   ],
   "source": [
    "alist = [5,4,1,-67,343,34]\n",
    "\n",
    "alist[1]"
   ]
  },
  {
   "cell_type": "code",
   "execution_count": 27,
   "metadata": {
    "id": "mdbxlEgLqZ6X"
   },
   "outputs": [
    {
     "name": "stdout",
     "output_type": "stream",
     "text": [
      "34\n",
      "34\n",
      "343\n"
     ]
    }
   ],
   "source": [
    "print( alist[len(alist)-1] )\n",
    "\n",
    "# Negative indexing: counting backwards\n",
    "print( alist[-1] )\n",
    "print( alist[-2] )"
   ]
  },
  {
   "cell_type": "code",
   "execution_count": 28,
   "metadata": {
    "id": "0VXgCfQiqZ6a"
   },
   "outputs": [
    {
     "data": {
      "text/plain": [
       "-67"
      ]
     },
     "execution_count": 28,
     "metadata": {},
     "output_type": "execute_result"
    }
   ],
   "source": [
    "# can also use variables\n",
    "idx = 3\n",
    "alist[idx]"
   ]
  },
  {
   "cell_type": "code",
   "execution_count": 29,
   "metadata": {
    "id": "mzw7P7JTqZ6d"
   },
   "outputs": [
    {
     "ename": "TypeError",
     "evalue": "list indices must be integers or slices, not list",
     "output_type": "error",
     "traceback": [
      "\u001b[0;31m---------------------------------------------------------------------------\u001b[0m",
      "\u001b[0;31mTypeError\u001b[0m                                 Traceback (most recent call last)",
      "Cell \u001b[0;32mIn[29], line 3\u001b[0m\n\u001b[1;32m      1\u001b[0m \u001b[38;5;66;03m# Illegal indexing\u001b[39;00m\n\u001b[1;32m      2\u001b[0m idxs \u001b[38;5;241m=\u001b[39m [\u001b[38;5;241m4\u001b[39m,\u001b[38;5;241m2\u001b[39m]\n\u001b[0;32m----> 3\u001b[0m alist[idxs]\n",
      "\u001b[0;31mTypeError\u001b[0m: list indices must be integers or slices, not list"
     ]
    }
   ],
   "source": [
    "# Illegal indexing\n",
    "idxs = [4,2]\n",
    "alist[idxs]\n"
   ]
  },
  {
   "cell_type": "code",
   "execution_count": 30,
   "metadata": {
    "id": "w5HFotAEqZ6h"
   },
   "outputs": [
    {
     "data": {
      "text/plain": [
       "3"
      ]
     },
     "execution_count": 30,
     "metadata": {},
     "output_type": "execute_result"
    }
   ],
   "source": [
    "# Nested Indexing\n",
    "alist = [ 4,3,[4,3,5] ]\n",
    "\n",
    "alist[2][1]"
   ]
  },
  {
   "cell_type": "markdown",
   "metadata": {
    "id": "0r7hmzKJqZ6j"
   },
   "source": [
    "### Exercise"
   ]
  },
  {
   "cell_type": "code",
   "execution_count": null,
   "metadata": {
    "id": "Gl6GpabLqZ6k"
   },
   "outputs": [],
   "source": [
    "# Get the attribute of Penguin in the following list\n",
    "listlist = [ 4,'hi',[5,4,3],'yo',{'Squirrel':'cute','Penguin':'Yummy'} ]"
   ]
  },
  {
   "cell_type": "code",
   "execution_count": null,
   "metadata": {
    "id": "A0Zo5RcVqZ6n"
   },
   "outputs": [],
   "source": [
    "# Solution\n",
    "listlist[4]['Penguin']"
   ]
  },
  {
   "cell_type": "markdown",
   "metadata": {
    "id": "wWy1_RSGqZ6q"
   },
   "source": [
    "# .\n",
    "# .\n",
    "# ."
   ]
  },
  {
   "cell_type": "markdown",
   "metadata": {
    "id": "dRJCUM3vqZ6q"
   },
   "source": [
    "# VIDEO: Slicing, part 1"
   ]
  },
  {
   "cell_type": "code",
   "execution_count": 31,
   "metadata": {
    "id": "ocw52fHCqZ6r"
   },
   "outputs": [
    {
     "data": {
      "text/plain": [
       "[5, 6, 7, 8, 9, 10]"
      ]
     },
     "execution_count": 31,
     "metadata": {},
     "output_type": "execute_result"
    }
   ],
   "source": [
    "alist = list( range(5,11) )\n",
    "alist"
   ]
  },
  {
   "cell_type": "code",
   "execution_count": 34,
   "metadata": {
    "id": "k6vswMNKqZ6x"
   },
   "outputs": [
    {
     "name": "stdout",
     "output_type": "stream",
     "text": [
      "[5, 6]\n",
      "[5]\n"
     ]
    }
   ],
   "source": [
    "# Slicing: allows you to access multiple elements at a time\n",
    "# Syntax 1 - L:U - return elements in interval [L, U)\n",
    "print( alist[0:2] )\n",
    "print( alist[0:1] )"
   ]
  },
  {
   "cell_type": "code",
   "execution_count": null,
   "metadata": {
    "id": "F8aV8z6tqZ60"
   },
   "outputs": [],
   "source": [
    "alist[2:5]"
   ]
  },
  {
   "cell_type": "code",
   "execution_count": null,
   "metadata": {
    "id": "e1jfvAX6qZ63"
   },
   "outputs": [],
   "source": [
    "# Syntax 2 - L: - return elements in interval [L, last element]\n",
    "alist[2:]"
   ]
  },
  {
   "cell_type": "code",
   "execution_count": 35,
   "metadata": {
    "id": "lWK3v5XLqZ66"
   },
   "outputs": [
    {
     "data": {
      "text/plain": [
       "[5, 6, 7, 8]"
      ]
     },
     "execution_count": 35,
     "metadata": {},
     "output_type": "execute_result"
    }
   ],
   "source": [
    "# Syntax 3 - :U - return elements in interval [0, U)\n",
    "alist[:4]"
   ]
  },
  {
   "cell_type": "code",
   "execution_count": 36,
   "metadata": {
    "id": "_nbiVdKlqZ69"
   },
   "outputs": [
    {
     "data": {
      "text/plain": [
       "[5, 7, 9]"
      ]
     },
     "execution_count": 36,
     "metadata": {},
     "output_type": "execute_result"
    }
   ],
   "source": [
    "# Syntax 4 - ::S - return elements in every S data point\n",
    "alist[::2]"
   ]
  },
  {
   "cell_type": "code",
   "execution_count": 40,
   "metadata": {
    "id": "dWhnFbOEqZ7A"
   },
   "outputs": [
    {
     "data": {
      "text/plain": [
       "[6, 8]"
      ]
     },
     "execution_count": 40,
     "metadata": {},
     "output_type": "execute_result"
    }
   ],
   "source": [
    "# General Syntax - L:U:S - return elements in [L, U), skipped by S\n",
    "start = 1\n",
    "stop  = 4\n",
    "skip  = 2\n",
    "\n",
    "alist[start:stop:skip]"
   ]
  },
  {
   "cell_type": "code",
   "execution_count": 38,
   "metadata": {
    "id": "BC44ezTjqZ7D"
   },
   "outputs": [
    {
     "data": {
      "text/plain": [
       "[10, 9, 8, 7, 6, 5]"
      ]
     },
     "execution_count": 38,
     "metadata": {},
     "output_type": "execute_result"
    }
   ],
   "source": [
    "# to return a reversed list\n",
    "alist[::-1]"
   ]
  },
  {
   "cell_type": "markdown",
   "metadata": {
    "id": "tSj5zH80qZ7G"
   },
   "source": [
    "### Exercise"
   ]
  },
  {
   "cell_type": "code",
   "execution_count": 39,
   "metadata": {
    "id": "lxYcQCFGqZ7G"
   },
   "outputs": [
    {
     "data": {
      "text/plain": [
       "'Mike is a nice guy'"
      ]
     },
     "execution_count": 39,
     "metadata": {},
     "output_type": "execute_result"
    }
   ],
   "source": [
    "# use slicing to write \"Mike is a nice guy\" from this text\n",
    "text = '345dfyug ecin a si ekiM 93845d'\n",
    "\n",
    "text[-8:4:-1]"
   ]
  }
 ],
 "metadata": {
  "colab": {
   "name": "DUDL_python_indexSlice.ipynb",
   "provenance": []
  },
  "kernelspec": {
   "display_name": "Python 3 (ipykernel)",
   "language": "python",
   "name": "python3"
  },
  "language_info": {
   "codemirror_mode": {
    "name": "ipython",
    "version": 3
   },
   "file_extension": ".py",
   "mimetype": "text/x-python",
   "name": "python",
   "nbconvert_exporter": "python",
   "pygments_lexer": "ipython3",
   "version": "3.12.7"
  }
 },
 "nbformat": 4,
 "nbformat_minor": 4
}
