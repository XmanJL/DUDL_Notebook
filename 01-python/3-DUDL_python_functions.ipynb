{
 "cells": [
  {
   "cell_type": "markdown",
   "metadata": {
    "id": "AO36t97oHVe5"
   },
   "source": [
    "# COURSE: A deep understanding of deep learning\n",
    "## SECTION: Introduction to Python: functions\n",
    "#### TEACHER: Mike X Cohen, sincxpress.com\n",
    "##### COURSE URL: udemy.com/course/deeplearning_x/?couponCode=202212\n",
    "##### Modified from original code"
   ]
  },
  {
   "cell_type": "markdown",
   "metadata": {
    "id": "AaCKuuocHVe6"
   },
   "source": [
    "# .\n",
    "# .\n",
    "# ."
   ]
  },
  {
   "cell_type": "markdown",
   "metadata": {
    "id": "nts6acjIHVe7"
   },
   "source": [
    "# VIDEO: Inputs and outputs"
   ]
  },
  {
   "cell_type": "code",
   "execution_count": 1,
   "metadata": {
    "id": "33kbPUGtX6_7"
   },
   "outputs": [
    {
     "data": {
      "text/plain": [
       "100.5"
      ]
     },
     "execution_count": 1,
     "metadata": {},
     "output_type": "execute_result"
    }
   ],
   "source": [
    "# Behind the scene, python adds all the elements together in the collection\n",
    "sum([10,20,30,40.5])"
   ]
  },
  {
   "cell_type": "code",
   "execution_count": 11,
   "metadata": {},
   "outputs": [
    {
     "ename": "TypeError",
     "evalue": "unsupported operand type(s) for +: 'int' and 'str'",
     "output_type": "error",
     "traceback": [
      "\u001b[0;31m---------------------------------------------------------------------------\u001b[0m",
      "\u001b[0;31mTypeError\u001b[0m                                 Traceback (most recent call last)",
      "Cell \u001b[0;32mIn[11], line 2\u001b[0m\n\u001b[1;32m      1\u001b[0m \u001b[38;5;66;03m# What crashes the program\u001b[39;00m\n\u001b[0;32m----> 2\u001b[0m \u001b[38;5;28msum\u001b[39m([\u001b[38;5;124m\"\u001b[39m\u001b[38;5;124ma\u001b[39m\u001b[38;5;124m\"\u001b[39m,\u001b[38;5;124m\"\u001b[39m\u001b[38;5;124mb\u001b[39m\u001b[38;5;124m\"\u001b[39m,\u001b[38;5;124m\"\u001b[39m\u001b[38;5;124mc\u001b[39m\u001b[38;5;124m\"\u001b[39m]) \n\u001b[1;32m      3\u001b[0m \u001b[38;5;28msum\u001b[39m([\u001b[38;5;241m1\u001b[39m, \u001b[38;5;241m2\u001b[39m, \u001b[38;5;241m3\u001b[39m, \u001b[38;5;124m\"\u001b[39m\u001b[38;5;124m4\u001b[39m\u001b[38;5;124m\"\u001b[39m])\n",
      "\u001b[0;31mTypeError\u001b[0m: unsupported operand type(s) for +: 'int' and 'str'"
     ]
    }
   ],
   "source": [
    "# What crashes the program\n",
    "sum([\"a\",\"b\",\"c\"]) \n",
    "sum([1, 2, 3, \"4\"])"
   ]
  },
  {
   "cell_type": "code",
   "execution_count": 13,
   "metadata": {
    "id": "XIMHA8j3HVe7"
   },
   "outputs": [
    {
     "data": {
      "text/plain": [
       "9"
      ]
     },
     "execution_count": 13,
     "metadata": {},
     "output_type": "execute_result"
    }
   ],
   "source": [
    "alist = [2,3,4]\n",
    "\n",
    "sum(alist)"
   ]
  },
  {
   "cell_type": "code",
   "execution_count": null,
   "metadata": {
    "id": "DDx3WFPfahJt"
   },
   "outputs": [],
   "source": [
    "# alist(0)\n",
    "sum[alist]"
   ]
  },
  {
   "cell_type": "code",
   "execution_count": null,
   "metadata": {
    "id": "wPv1yRxUYLMK"
   },
   "outputs": [],
   "source": [
    "len(alist)"
   ]
  },
  {
   "cell_type": "code",
   "execution_count": 14,
   "metadata": {
    "id": "Zz8Y8s4eaL3G"
   },
   "outputs": [
    {
     "name": "stdout",
     "output_type": "stream",
     "text": [
      "The sum is 9\n"
     ]
    }
   ],
   "source": [
    "# function gives outputs\n",
    "listsum = sum(alist)\n",
    "print('The sum is ' + str(listsum))"
   ]
  },
  {
   "cell_type": "markdown",
   "metadata": {
    "id": "Vec3xZ0XHVfA"
   },
   "source": [
    "### Exercise"
   ]
  },
  {
   "cell_type": "code",
   "execution_count": 15,
   "metadata": {
    "id": "E0VaIg9wHVfB"
   },
   "outputs": [
    {
     "data": {
      "text/plain": [
       "3.0"
      ]
     },
     "execution_count": 15,
     "metadata": {},
     "output_type": "execute_result"
    }
   ],
   "source": [
    "# compute the average of alist\n",
    "sum(alist) / len(alist)"
   ]
  },
  {
   "cell_type": "markdown",
   "metadata": {
    "id": "PXwYFp8gHVfH"
   },
   "source": [
    "# .\n",
    "# .\n",
    "# ."
   ]
  },
  {
   "cell_type": "markdown",
   "metadata": {
    "id": "6C72OxAzWYFj"
   },
   "source": [
    "# VIDEO: Python modules (numpy, pandas)\n"
   ]
  },
  {
   "cell_type": "code",
   "execution_count": 1,
   "metadata": {
    "id": "oXX5F422WgXC"
   },
   "outputs": [
    {
     "ename": "NameError",
     "evalue": "name 'mean' is not defined",
     "output_type": "error",
     "traceback": [
      "\u001b[0;31m---------------------------------------------------------------------------\u001b[0m",
      "\u001b[0;31mNameError\u001b[0m                                 Traceback (most recent call last)",
      "Cell \u001b[0;32mIn[1], line 3\u001b[0m\n\u001b[1;32m      1\u001b[0m \u001b[38;5;66;03m# Not gonna work\u001b[39;00m\n\u001b[1;32m      2\u001b[0m numbers \u001b[38;5;241m=\u001b[39m [\u001b[38;5;241m1\u001b[39m,\u001b[38;5;241m2\u001b[39m,\u001b[38;5;241m3\u001b[39m,\u001b[38;5;241m4\u001b[39m,\u001b[38;5;241m5\u001b[39m]\n\u001b[0;32m----> 3\u001b[0m mean(numbers)\n\u001b[1;32m      4\u001b[0m average(numbers)\n",
      "\u001b[0;31mNameError\u001b[0m: name 'mean' is not defined"
     ]
    }
   ],
   "source": [
    "# Not gonna work\n",
    "numbers = [1,2,3,4,5]\n",
    "mean(numbers)\n",
    "average(numbers)"
   ]
  },
  {
   "cell_type": "code",
   "execution_count": 17,
   "metadata": {
    "id": "kl_qQM-tWYab"
   },
   "outputs": [],
   "source": [
    "# Libraries keep python lightweighted\n",
    "# Numerical Python (numpy)\n",
    "import numpy as np\n",
    "# from numpy import mean as m ##if you only need 1 function"
   ]
  },
  {
   "cell_type": "code",
   "execution_count": null,
   "metadata": {},
   "outputs": [],
   "source": [
    "# Find the mean of the collection\n",
    "np.mean(numbers)"
   ]
  },
  {
   "cell_type": "code",
   "execution_count": 5,
   "metadata": {
    "id": "LG6ZkkyCWYeM"
   },
   "outputs": [
    {
     "data": {
      "text/plain": [
       "array([1.        , 1.66666667, 2.33333333, 3.        , 3.66666667,\n",
       "       4.33333333, 5.        ])"
      ]
     },
     "execution_count": 5,
     "metadata": {},
     "output_type": "execute_result"
    }
   ],
   "source": [
    "# Find the array of linearly spaced numbers from 1 to 5\n",
    "# There will be 7 of them\n",
    "np.linspace(1,5,7)"
   ]
  },
  {
   "cell_type": "code",
   "execution_count": 14,
   "metadata": {
    "id": "jMvSFmzMWYhr"
   },
   "outputs": [
    {
     "name": "stdout",
     "output_type": "stream",
     "text": [
      "[1 2 3 4 5]\n",
      "[1, 2, 3, 4, 5]\n"
     ]
    }
   ],
   "source": [
    "# new data type: numpy array\n",
    "numbernp = np.array([1,2,3,4,5])\n",
    "numbers = numbernp.tolist()\n",
    "\n",
    "print(numbernp)\n",
    "print(numbers)"
   ]
  },
  {
   "cell_type": "code",
   "execution_count": 8,
   "metadata": {
    "id": "uhmFKhADWYk4"
   },
   "outputs": [
    {
     "name": "stdout",
     "output_type": "stream",
     "text": [
      "<class 'numpy.ndarray'>\n",
      "<class 'list'>\n"
     ]
    }
   ],
   "source": [
    "print(type(numbernp))\n",
    "print(type(numbers))"
   ]
  },
  {
   "cell_type": "code",
   "execution_count": 10,
   "metadata": {
    "id": "jQQntk65WYn0"
   },
   "outputs": [
    {
     "name": "stdout",
     "output_type": "stream",
     "text": [
      "1\n",
      "5\n"
     ]
    }
   ],
   "source": [
    "# Find min and max of the numpy array\n",
    "print(numbernp.min())\n",
    "print(numbernp.max())"
   ]
  },
  {
   "cell_type": "code",
   "execution_count": null,
   "metadata": {
    "id": "cN7fI4mjXlYJ"
   },
   "outputs": [],
   "source": [
    "n = [4,3,5,2,6,1,7]\n",
    "print(n)\n",
    "print(n)"
   ]
  },
  {
   "cell_type": "code",
   "execution_count": 16,
   "metadata": {
    "id": "tpsi4CAsXUrZ"
   },
   "outputs": [
    {
     "name": "stdout",
     "output_type": "stream",
     "text": [
      "[4, 3, 5, 2, 6, 1, 7]\n",
      "[1 2 3 4 5 6 7]\n"
     ]
    }
   ],
   "source": [
    "n = [4,3,5,2,6,1,7]\n",
    "print(n)\n",
    "n = np.sort(n) # notice different variable type; could set back\n",
    "print(n)"
   ]
  },
  {
   "cell_type": "code",
   "execution_count": 19,
   "metadata": {
    "id": "312FIMgrXUuy"
   },
   "outputs": [
    {
     "name": "stdout",
     "output_type": "stream",
     "text": [
      "[1, 2, 3, 4, 5, 6, 7]\n",
      "[4 3 5 2 6 1 7]\n"
     ]
    }
   ],
   "source": [
    "# in-place vs out-of-place\n",
    "n = [4,3,5,2,6,1,7]\n",
    "nn = np.array(n)\n",
    "n.sort() #inplace: changes the original variable \n",
    "print(n)\n",
    "np.sort(nn) #out-of-place: returns a new copy of the original variable\n",
    "print(nn)"
   ]
  },
  {
   "cell_type": "code",
   "execution_count": 35,
   "metadata": {
    "id": "Djlw3QB8XUx4"
   },
   "outputs": [
    {
     "name": "stdout",
     "output_type": "stream",
     "text": [
      "0.2654170938372633\n",
      "[ 1.78055481 -0.08887007  0.23523495 -0.25961866 -0.20790204]\n",
      "[[ 0.10498593 -1.93354312 -0.23553651 -0.31402295  1.73140844]\n",
      " [ 1.50261226 -0.41164231  1.0478197  -0.53208973 -0.70143619]\n",
      " [ 0.15016968 -0.06915175  0.77768974  0.50432974  0.78273612]\n",
      " [-1.48490164 -0.91615472 -0.68649677 -0.808455   -0.61804403]\n",
      " [ 0.23360053  1.50202589  0.34481741  0.53273729  0.90925258]]\n"
     ]
    }
   ],
   "source": [
    "# Pandas Library\n",
    "# organizes dataset by observations vs. features\n",
    "import pandas as pd\n",
    "\n",
    "# create some random data\n",
    "var1 = np.random.randn() #create a random # from Gaussian distribution\n",
    "var2 = np.random.randn(5) #create an array of 5 random numbers\n",
    "var3 = np.random.randn(5,5) #create a 5x5 matrix of random numbers\n",
    "\n",
    "print(var1)\n",
    "print(var2)\n",
    "print(var3)"
   ]
  },
  {
   "cell_type": "code",
   "execution_count": 76,
   "metadata": {},
   "outputs": [],
   "source": [
    "# create some random data II\n",
    "var1 = np.random.randn(100) *5 + 20\n",
    "var2 = np.random.randn(100) > 0\n",
    "\n",
    "# variable labels (headers)\n",
    "labels = ['Temp. (C)','Ice cream']\n",
    "\n",
    "# put them into a dictionary\n",
    "D = {labels[0]:var1, labels[1]:var2}\n",
    "\n",
    "# import to pandas dataframe\n",
    "df = pd.DataFrame(data=D)"
   ]
  },
  {
   "cell_type": "code",
   "execution_count": 77,
   "metadata": {},
   "outputs": [
    {
     "data": {
      "text/html": [
       "<div>\n",
       "<style scoped>\n",
       "    .dataframe tbody tr th:only-of-type {\n",
       "        vertical-align: middle;\n",
       "    }\n",
       "\n",
       "    .dataframe tbody tr th {\n",
       "        vertical-align: top;\n",
       "    }\n",
       "\n",
       "    .dataframe thead th {\n",
       "        text-align: right;\n",
       "    }\n",
       "</style>\n",
       "<table border=\"1\" class=\"dataframe\">\n",
       "  <thead>\n",
       "    <tr style=\"text-align: right;\">\n",
       "      <th></th>\n",
       "      <th>Temp. (C)</th>\n",
       "      <th>Ice cream</th>\n",
       "    </tr>\n",
       "  </thead>\n",
       "  <tbody>\n",
       "    <tr>\n",
       "      <th>0</th>\n",
       "      <td>12.387891</td>\n",
       "      <td>False</td>\n",
       "    </tr>\n",
       "    <tr>\n",
       "      <th>1</th>\n",
       "      <td>20.543456</td>\n",
       "      <td>False</td>\n",
       "    </tr>\n",
       "    <tr>\n",
       "      <th>2</th>\n",
       "      <td>19.455437</td>\n",
       "      <td>False</td>\n",
       "    </tr>\n",
       "    <tr>\n",
       "      <th>3</th>\n",
       "      <td>16.832326</td>\n",
       "      <td>False</td>\n",
       "    </tr>\n",
       "    <tr>\n",
       "      <th>4</th>\n",
       "      <td>14.747855</td>\n",
       "      <td>True</td>\n",
       "    </tr>\n",
       "    <tr>\n",
       "      <th>...</th>\n",
       "      <td>...</td>\n",
       "      <td>...</td>\n",
       "    </tr>\n",
       "    <tr>\n",
       "      <th>95</th>\n",
       "      <td>19.294328</td>\n",
       "      <td>True</td>\n",
       "    </tr>\n",
       "    <tr>\n",
       "      <th>96</th>\n",
       "      <td>22.395569</td>\n",
       "      <td>False</td>\n",
       "    </tr>\n",
       "    <tr>\n",
       "      <th>97</th>\n",
       "      <td>21.144991</td>\n",
       "      <td>False</td>\n",
       "    </tr>\n",
       "    <tr>\n",
       "      <th>98</th>\n",
       "      <td>19.801850</td>\n",
       "      <td>False</td>\n",
       "    </tr>\n",
       "    <tr>\n",
       "      <th>99</th>\n",
       "      <td>13.308550</td>\n",
       "      <td>True</td>\n",
       "    </tr>\n",
       "  </tbody>\n",
       "</table>\n",
       "<p>100 rows × 2 columns</p>\n",
       "</div>"
      ],
      "text/plain": [
       "    Temp. (C)  Ice cream\n",
       "0   12.387891      False\n",
       "1   20.543456      False\n",
       "2   19.455437      False\n",
       "3   16.832326      False\n",
       "4   14.747855       True\n",
       "..        ...        ...\n",
       "95  19.294328       True\n",
       "96  22.395569      False\n",
       "97  21.144991      False\n",
       "98  19.801850      False\n",
       "99  13.308550       True\n",
       "\n",
       "[100 rows x 2 columns]"
      ]
     },
     "execution_count": 77,
     "metadata": {},
     "output_type": "execute_result"
    }
   ],
   "source": [
    "df"
   ]
  },
  {
   "cell_type": "code",
   "execution_count": null,
   "metadata": {
    "id": "v9LVmVWVXU06"
   },
   "outputs": [],
   "source": [
    "df.head()"
   ]
  },
  {
   "cell_type": "code",
   "execution_count": 79,
   "metadata": {
    "id": "VuKwrftYXU3p"
   },
   "outputs": [
    {
     "data": {
      "text/plain": [
       "Temp. (C)    100\n",
       "Ice cream    100\n",
       "dtype: int64"
      ]
     },
     "execution_count": 79,
     "metadata": {},
     "output_type": "execute_result"
    }
   ],
   "source": [
    "# Return how many observations (rows) we have for each column\n",
    "df.count()"
   ]
  },
  {
   "cell_type": "code",
   "execution_count": 81,
   "metadata": {
    "id": "gp6O3x0IZuwv"
   },
   "outputs": [
    {
     "data": {
      "text/plain": [
       "Temp. (C)    19.432548\n",
       "Ice cream     0.540000\n",
       "dtype: float64"
      ]
     },
     "execution_count": 81,
     "metadata": {},
     "output_type": "execute_result"
    }
   ],
   "source": [
    "# Return the mean of values for each column\n",
    "df.mean()"
   ]
  },
  {
   "cell_type": "markdown",
   "metadata": {
    "id": "SSdPdoHFZu3F"
   },
   "source": [
    "### Exercise"
   ]
  },
  {
   "cell_type": "code",
   "execution_count": 83,
   "metadata": {
    "id": "Op7OAkKRZu50"
   },
   "outputs": [
    {
     "name": "stderr",
     "output_type": "stream",
     "text": [
      "/var/folders/3k/vsl4hddn56x_g6r3lg43yr8r0000gn/T/ipykernel_1794/2580614614.py:5: RuntimeWarning: divide by zero encountered in log\n",
      "  dictionary = { 'num': nums, 'square': nums**2, 'log': np.log(nums) }\n"
     ]
    },
    {
     "data": {
      "text/html": [
       "<div>\n",
       "<style scoped>\n",
       "    .dataframe tbody tr th:only-of-type {\n",
       "        vertical-align: middle;\n",
       "    }\n",
       "\n",
       "    .dataframe tbody tr th {\n",
       "        vertical-align: top;\n",
       "    }\n",
       "\n",
       "    .dataframe thead th {\n",
       "        text-align: right;\n",
       "    }\n",
       "</style>\n",
       "<table border=\"1\" class=\"dataframe\">\n",
       "  <thead>\n",
       "    <tr style=\"text-align: right;\">\n",
       "      <th></th>\n",
       "      <th>num</th>\n",
       "      <th>square</th>\n",
       "      <th>log</th>\n",
       "    </tr>\n",
       "  </thead>\n",
       "  <tbody>\n",
       "    <tr>\n",
       "      <th>0</th>\n",
       "      <td>0</td>\n",
       "      <td>0</td>\n",
       "      <td>-inf</td>\n",
       "    </tr>\n",
       "    <tr>\n",
       "      <th>1</th>\n",
       "      <td>1</td>\n",
       "      <td>1</td>\n",
       "      <td>0.000000</td>\n",
       "    </tr>\n",
       "    <tr>\n",
       "      <th>2</th>\n",
       "      <td>2</td>\n",
       "      <td>4</td>\n",
       "      <td>0.693147</td>\n",
       "    </tr>\n",
       "    <tr>\n",
       "      <th>3</th>\n",
       "      <td>3</td>\n",
       "      <td>9</td>\n",
       "      <td>1.098612</td>\n",
       "    </tr>\n",
       "    <tr>\n",
       "      <th>4</th>\n",
       "      <td>4</td>\n",
       "      <td>16</td>\n",
       "      <td>1.386294</td>\n",
       "    </tr>\n",
       "    <tr>\n",
       "      <th>5</th>\n",
       "      <td>5</td>\n",
       "      <td>25</td>\n",
       "      <td>1.609438</td>\n",
       "    </tr>\n",
       "    <tr>\n",
       "      <th>6</th>\n",
       "      <td>6</td>\n",
       "      <td>36</td>\n",
       "      <td>1.791759</td>\n",
       "    </tr>\n",
       "    <tr>\n",
       "      <th>7</th>\n",
       "      <td>7</td>\n",
       "      <td>49</td>\n",
       "      <td>1.945910</td>\n",
       "    </tr>\n",
       "    <tr>\n",
       "      <th>8</th>\n",
       "      <td>8</td>\n",
       "      <td>64</td>\n",
       "      <td>2.079442</td>\n",
       "    </tr>\n",
       "    <tr>\n",
       "      <th>9</th>\n",
       "      <td>9</td>\n",
       "      <td>81</td>\n",
       "      <td>2.197225</td>\n",
       "    </tr>\n",
       "    <tr>\n",
       "      <th>10</th>\n",
       "      <td>10</td>\n",
       "      <td>100</td>\n",
       "      <td>2.302585</td>\n",
       "    </tr>\n",
       "  </tbody>\n",
       "</table>\n",
       "</div>"
      ],
      "text/plain": [
       "    num  square       log\n",
       "0     0       0      -inf\n",
       "1     1       1  0.000000\n",
       "2     2       4  0.693147\n",
       "3     3       9  1.098612\n",
       "4     4      16  1.386294\n",
       "5     5      25  1.609438\n",
       "6     6      36  1.791759\n",
       "7     7      49  1.945910\n",
       "8     8      64  2.079442\n",
       "9     9      81  2.197225\n",
       "10   10     100  2.302585"
      ]
     },
     "execution_count": 83,
     "metadata": {},
     "output_type": "execute_result"
    }
   ],
   "source": [
    "# create a pandas dataframe with variables: \n",
    "# integers from 0 to 10, their square, and their log\n",
    "\n",
    "nums = np.array(range(11))\n",
    "# Here throws a warning of divison by 0\n",
    "# Warning: Python thinks u did smth wrong\n",
    "# Error: You definitely did smth wrong\n",
    "dictionary = { 'num': nums, 'square': nums**2, 'log': np.log(nums) }\n",
    "finaldf = pd.DataFrame(data=dictionary)\n",
    "finaldf"
   ]
  },
  {
   "cell_type": "markdown",
   "metadata": {
    "id": "L1oOs1PaZu8H"
   },
   "source": [
    "# .\n",
    "# .\n",
    "# ."
   ]
  },
  {
   "cell_type": "markdown",
   "metadata": {
    "id": "TF8JJyIUHVfH"
   },
   "source": [
    "# VIDEO: Getting help on functions"
   ]
  },
  {
   "cell_type": "code",
   "execution_count": null,
   "metadata": {
    "id": "jBjOYTZ_HVfI"
   },
   "outputs": [],
   "source": [
    "# Help!\n",
    "# Click on the parenthesis inside the function -> Hit shift/tab at the same time\n",
    "# This gives you documentation of the function\n",
    "alist = [1,2,3]\n",
    "\n",
    "sum(alist,10)"
   ]
  },
  {
   "cell_type": "code",
   "execution_count": 90,
   "metadata": {
    "id": "Aq6Q8yfWHVfc"
   },
   "outputs": [
    {
     "data": {
      "text/plain": [
       "\u001b[0;31mSignature:\u001b[0m \u001b[0msum\u001b[0m\u001b[0;34m(\u001b[0m\u001b[0miterable\u001b[0m\u001b[0;34m,\u001b[0m \u001b[0;34m/\u001b[0m\u001b[0;34m,\u001b[0m \u001b[0mstart\u001b[0m\u001b[0;34m=\u001b[0m\u001b[0;36m0\u001b[0m\u001b[0;34m)\u001b[0m\u001b[0;34m\u001b[0m\u001b[0;34m\u001b[0m\u001b[0m\n",
       "\u001b[0;31mDocstring:\u001b[0m\n",
       "Return the sum of a 'start' value (default: 0) plus an iterable of numbers\n",
       "\n",
       "When the iterable is empty, return the start value.\n",
       "This function is intended specifically for use with numeric values and may\n",
       "reject non-numeric types.\n",
       "\u001b[0;31mType:\u001b[0m      builtin_function_or_method"
      ]
     },
     "metadata": {},
     "output_type": "display_data"
    }
   ],
   "source": [
    "# You can also do this\n",
    "sum??"
   ]
  },
  {
   "cell_type": "code",
   "execution_count": 91,
   "metadata": {
    "id": "wyIf-KJU6V-w"
   },
   "outputs": [
    {
     "name": "stdout",
     "output_type": "stream",
     "text": [
      "Help on built-in function sum in module builtins:\n",
      "\n",
      "sum(iterable, /, start=0)\n",
      "    Return the sum of a 'start' value (default: 0) plus an iterable of numbers\n",
      "\n",
      "    When the iterable is empty, return the start value.\n",
      "    This function is intended specifically for use with numeric values and may\n",
      "    reject non-numeric types.\n",
      "\n"
     ]
    }
   ],
   "source": [
    "# You can also do this\n",
    "# But this prints the plain text of the documentation\n",
    "help(sum)"
   ]
  },
  {
   "cell_type": "code",
   "execution_count": 93,
   "metadata": {
    "collapsed": true,
    "id": "dN8SF167blYz",
    "jupyter": {
     "outputs_hidden": true
    }
   },
   "outputs": [
    {
     "data": {
      "text/plain": [
       "(['@array_function_dispatch(_linspace_dispatcher)\\n',\n",
       "  'def linspace(start, stop, num=50, endpoint=True, retstep=False, dtype=None,\\n',\n",
       "  '             axis=0):\\n',\n",
       "  '    \"\"\"\\n',\n",
       "  '    Return evenly spaced numbers over a specified interval.\\n',\n",
       "  '\\n',\n",
       "  '    Returns `num` evenly spaced samples, calculated over the\\n',\n",
       "  '    interval [`start`, `stop`].\\n',\n",
       "  '\\n',\n",
       "  '    The endpoint of the interval can optionally be excluded.\\n',\n",
       "  '\\n',\n",
       "  '    .. versionchanged:: 1.16.0\\n',\n",
       "  '        Non-scalar `start` and `stop` are now supported.\\n',\n",
       "  '\\n',\n",
       "  '    .. versionchanged:: 1.20.0\\n',\n",
       "  '        Values are rounded towards ``-inf`` instead of ``0`` when an\\n',\n",
       "  '        integer ``dtype`` is specified. The old behavior can\\n',\n",
       "  '        still be obtained with ``np.linspace(start, stop, num).astype(int)``\\n',\n",
       "  '\\n',\n",
       "  '    Parameters\\n',\n",
       "  '    ----------\\n',\n",
       "  '    start : array_like\\n',\n",
       "  '        The starting value of the sequence.\\n',\n",
       "  '    stop : array_like\\n',\n",
       "  '        The end value of the sequence, unless `endpoint` is set to False.\\n',\n",
       "  '        In that case, the sequence consists of all but the last of ``num + 1``\\n',\n",
       "  '        evenly spaced samples, so that `stop` is excluded.  Note that the step\\n',\n",
       "  '        size changes when `endpoint` is False.\\n',\n",
       "  '    num : int, optional\\n',\n",
       "  '        Number of samples to generate. Default is 50. Must be non-negative.\\n',\n",
       "  '    endpoint : bool, optional\\n',\n",
       "  '        If True, `stop` is the last sample. Otherwise, it is not included.\\n',\n",
       "  '        Default is True.\\n',\n",
       "  '    retstep : bool, optional\\n',\n",
       "  '        If True, return (`samples`, `step`), where `step` is the spacing\\n',\n",
       "  '        between samples.\\n',\n",
       "  '    dtype : dtype, optional\\n',\n",
       "  '        The type of the output array.  If `dtype` is not given, the data type\\n',\n",
       "  '        is inferred from `start` and `stop`. The inferred dtype will never be\\n',\n",
       "  '        an integer; `float` is chosen even if the arguments would produce an\\n',\n",
       "  '        array of integers.\\n',\n",
       "  '\\n',\n",
       "  '        .. versionadded:: 1.9.0\\n',\n",
       "  '\\n',\n",
       "  '    axis : int, optional\\n',\n",
       "  '        The axis in the result to store the samples.  Relevant only if start\\n',\n",
       "  '        or stop are array-like.  By default (0), the samples will be along a\\n',\n",
       "  '        new axis inserted at the beginning. Use -1 to get an axis at the end.\\n',\n",
       "  '\\n',\n",
       "  '        .. versionadded:: 1.16.0\\n',\n",
       "  '\\n',\n",
       "  '    Returns\\n',\n",
       "  '    -------\\n',\n",
       "  '    samples : ndarray\\n',\n",
       "  '        There are `num` equally spaced samples in the closed interval\\n',\n",
       "  '        ``[start, stop]`` or the half-open interval ``[start, stop)``\\n',\n",
       "  '        (depending on whether `endpoint` is True or False).\\n',\n",
       "  '    step : float, optional\\n',\n",
       "  '        Only returned if `retstep` is True\\n',\n",
       "  '\\n',\n",
       "  '        Size of spacing between samples.\\n',\n",
       "  '\\n',\n",
       "  '\\n',\n",
       "  '    See Also\\n',\n",
       "  '    --------\\n',\n",
       "  '    arange : Similar to `linspace`, but uses a step size (instead of the\\n',\n",
       "  '             number of samples).\\n',\n",
       "  '    geomspace : Similar to `linspace`, but with numbers spaced evenly on a log\\n',\n",
       "  '                scale (a geometric progression).\\n',\n",
       "  '    logspace : Similar to `geomspace`, but with the end points specified as\\n',\n",
       "  '               logarithms.\\n',\n",
       "  '    :ref:`how-to-partition`\\n',\n",
       "  '\\n',\n",
       "  '    Examples\\n',\n",
       "  '    --------\\n',\n",
       "  '    >>> np.linspace(2.0, 3.0, num=5)\\n',\n",
       "  '    array([2.  , 2.25, 2.5 , 2.75, 3.  ])\\n',\n",
       "  '    >>> np.linspace(2.0, 3.0, num=5, endpoint=False)\\n',\n",
       "  '    array([2. ,  2.2,  2.4,  2.6,  2.8])\\n',\n",
       "  '    >>> np.linspace(2.0, 3.0, num=5, retstep=True)\\n',\n",
       "  '    (array([2.  ,  2.25,  2.5 ,  2.75,  3.  ]), 0.25)\\n',\n",
       "  '\\n',\n",
       "  '    Graphical illustration:\\n',\n",
       "  '\\n',\n",
       "  '    >>> import matplotlib.pyplot as plt\\n',\n",
       "  '    >>> N = 8\\n',\n",
       "  '    >>> y = np.zeros(N)\\n',\n",
       "  '    >>> x1 = np.linspace(0, 10, N, endpoint=True)\\n',\n",
       "  '    >>> x2 = np.linspace(0, 10, N, endpoint=False)\\n',\n",
       "  \"    >>> plt.plot(x1, y, 'o')\\n\",\n",
       "  '    [<matplotlib.lines.Line2D object at 0x...>]\\n',\n",
       "  \"    >>> plt.plot(x2, y + 0.5, 'o')\\n\",\n",
       "  '    [<matplotlib.lines.Line2D object at 0x...>]\\n',\n",
       "  '    >>> plt.ylim([-0.5, 1])\\n',\n",
       "  '    (-0.5, 1)\\n',\n",
       "  '    >>> plt.show()\\n',\n",
       "  '\\n',\n",
       "  '    \"\"\"\\n',\n",
       "  '    num = operator.index(num)\\n',\n",
       "  '    if num < 0:\\n',\n",
       "  '        raise ValueError(\"Number of samples, %s, must be non-negative.\" % num)\\n',\n",
       "  '    div = (num - 1) if endpoint else num\\n',\n",
       "  '\\n',\n",
       "  '    # Convert float/complex array scalars to float, gh-3504\\n',\n",
       "  '    # and make sure one can use variables that have an __array_interface__, gh-6634\\n',\n",
       "  '    start = asanyarray(start) * 1.0\\n',\n",
       "  '    stop  = asanyarray(stop)  * 1.0\\n',\n",
       "  '\\n',\n",
       "  '    dt = result_type(start, stop, float(num))\\n',\n",
       "  '    if dtype is None:\\n',\n",
       "  '        dtype = dt\\n',\n",
       "  '        integer_dtype = False\\n',\n",
       "  '    else:\\n',\n",
       "  '        integer_dtype = _nx.issubdtype(dtype, _nx.integer)\\n',\n",
       "  '\\n',\n",
       "  '    delta = stop - start\\n',\n",
       "  '    y = _nx.arange(0, num, dtype=dt).reshape((-1,) + (1,) * ndim(delta))\\n',\n",
       "  '    # In-place multiplication y *= delta/div is faster, but prevents the multiplicant\\n',\n",
       "  '    # from overriding what class is produced, and thus prevents, e.g. use of Quantities,\\n',\n",
       "  '    # see gh-7142. Hence, we multiply in place only for standard scalar types.\\n',\n",
       "  '    if div > 0:\\n',\n",
       "  '        _mult_inplace = _nx.isscalar(delta)\\n',\n",
       "  '        step = delta / div\\n',\n",
       "  '        any_step_zero = (\\n',\n",
       "  '            step == 0 if _mult_inplace else _nx.asanyarray(step == 0).any())\\n',\n",
       "  '        if any_step_zero:\\n',\n",
       "  '            # Special handling for denormal numbers, gh-5437\\n',\n",
       "  '            y /= div\\n',\n",
       "  '            if _mult_inplace:\\n',\n",
       "  '                y *= delta\\n',\n",
       "  '            else:\\n',\n",
       "  '                y = y * delta\\n',\n",
       "  '        else:\\n',\n",
       "  '            if _mult_inplace:\\n',\n",
       "  '                y *= step\\n',\n",
       "  '            else:\\n',\n",
       "  '                y = y * step\\n',\n",
       "  '    else:\\n',\n",
       "  '        # sequences with 0 items or 1 item with endpoint=True (i.e. div <= 0)\\n',\n",
       "  '        # have an undefined step\\n',\n",
       "  '        step = NaN\\n',\n",
       "  '        # Multiply with delta to allow possible override of output class.\\n',\n",
       "  '        y = y * delta\\n',\n",
       "  '\\n',\n",
       "  '    y += start\\n',\n",
       "  '\\n',\n",
       "  '    if endpoint and num > 1:\\n',\n",
       "  '        y[-1, ...] = stop\\n',\n",
       "  '\\n',\n",
       "  '    if axis != 0:\\n',\n",
       "  '        y = _nx.moveaxis(y, 0, axis)\\n',\n",
       "  '\\n',\n",
       "  '    if integer_dtype:\\n',\n",
       "  '        _nx.floor(y, out=y)\\n',\n",
       "  '\\n',\n",
       "  '    if retstep:\\n',\n",
       "  '        return y.astype(dtype, copy=False), step\\n',\n",
       "  '    else:\\n',\n",
       "  '        return y.astype(dtype, copy=False)\\n'],\n",
       " 24)"
      ]
     },
     "execution_count": 93,
     "metadata": {},
     "output_type": "execute_result"
    }
   ],
   "source": [
    "# advanced method\n",
    "\n",
    "import inspect\n",
    "import numpy as np\n",
    "inspect.getsourcelines(np.linspace)"
   ]
  },
  {
   "cell_type": "markdown",
   "metadata": {
    "id": "bY1rgwxQHVff"
   },
   "source": [
    "# . \n",
    "# . \n",
    "# . "
   ]
  },
  {
   "cell_type": "markdown",
   "metadata": {
    "id": "YKb7zEreHVff"
   },
   "source": [
    "# VIDEO: Creating functions"
   ]
  },
  {
   "cell_type": "code",
   "execution_count": 3,
   "metadata": {
    "id": "97G57cZ9ddOo"
   },
   "outputs": [],
   "source": [
    "def awesomeFunction():\n",
    "  print(1+1)"
   ]
  },
  {
   "cell_type": "code",
   "execution_count": 5,
   "metadata": {
    "id": "8KZU9mtmeuGA"
   },
   "outputs": [
    {
     "name": "stdout",
     "output_type": "stream",
     "text": [
      "2\n"
     ]
    }
   ],
   "source": [
    "awesomeFunction #function instance\n",
    "awesomeFunction() #call function"
   ]
  },
  {
   "cell_type": "code",
   "execution_count": 8,
   "metadata": {
    "id": "XVeHn1vbe09d"
   },
   "outputs": [],
   "source": [
    "# Functions with comma-separated parameters\n",
    "# Also return values\n",
    "def SuperAwesomeFunction(input1,input2):\n",
    "  return input1 + input2"
   ]
  },
  {
   "cell_type": "code",
   "execution_count": 11,
   "metadata": {
    "id": "TWsLp1hIfIM8"
   },
   "outputs": [
    {
     "data": {
      "text/plain": [
       "13"
      ]
     },
     "execution_count": 11,
     "metadata": {},
     "output_type": "execute_result"
    }
   ],
   "source": [
    "SuperAwesomeFunction(5,8)"
   ]
  },
  {
   "cell_type": "code",
   "execution_count": 9,
   "metadata": {
    "id": "D50q9RWvfKfE"
   },
   "outputs": [],
   "source": [
    "answer = SuperAwesomeFunction(5,8)\n"
   ]
  },
  {
   "cell_type": "code",
   "execution_count": 10,
   "metadata": {
    "id": "uNDzCSG7fPEk"
   },
   "outputs": [
    {
     "name": "stdout",
     "output_type": "stream",
     "text": [
      "13\n"
     ]
    }
   ],
   "source": [
    "print(answer)"
   ]
  },
  {
   "cell_type": "code",
   "execution_count": 13,
   "metadata": {
    "id": "Y6ozALuNfQBE"
   },
   "outputs": [],
   "source": [
    "# with multiple outputs\n",
    "def awesomeFunction(in1,in2):\n",
    "  sumres = in1+in2\n",
    "  prodres = in1*in2\n",
    "  print('Their sum is ' + str(sumres))\n",
    "  print('Their product is ' + str(prodres))\n",
    "  return sumres,prodres"
   ]
  },
  {
   "cell_type": "code",
   "execution_count": 14,
   "metadata": {
    "id": "hFuBn4y0VcNU"
   },
   "outputs": [
    {
     "name": "stdout",
     "output_type": "stream",
     "text": [
      "Their sum is 9\n",
      "Their product is 20\n",
      "9 20\n"
     ]
    }
   ],
   "source": [
    "out1,out2 = awesomeFunction(4,5)\n",
    "\n",
    "print(out1,out2)"
   ]
  },
  {
   "cell_type": "code",
   "execution_count": 17,
   "metadata": {
    "id": "TJpxAc_StYbR"
   },
   "outputs": [
    {
     "data": {
      "text/plain": [
       "20"
      ]
     },
     "execution_count": 17,
     "metadata": {},
     "output_type": "execute_result"
    }
   ],
   "source": [
    "# lambda functions\n",
    "\n",
    "fun = lambda x,y : x**2 + y - 1 # lambda params : value to return (operations)\n",
    "\n",
    "fun(4, 5)"
   ]
  },
  {
   "cell_type": "markdown",
   "metadata": {
    "id": "P-gJ5dCuVpOU"
   },
   "source": [
    "### Exercise"
   ]
  },
  {
   "cell_type": "code",
   "execution_count": 25,
   "metadata": {
    "id": "I9kbuPglotnx"
   },
   "outputs": [
    {
     "data": {
      "text/plain": [
       "120"
      ]
     },
     "execution_count": 25,
     "metadata": {},
     "output_type": "execute_result"
    }
   ],
   "source": [
    "# create a function that computes a factorial, \n",
    "# then compare against the numpy factorial function\n",
    "# hint: import math\n",
    "import numpy as np\n",
    "\n",
    "def myfactorial(n):\n",
    "  return np.prod(np.arange(1,n+1))\n",
    "\n",
    "myfactorial(5)"
   ]
  },
  {
   "cell_type": "code",
   "execution_count": 32,
   "metadata": {
    "id": "iUPn1M01o_1h"
   },
   "outputs": [
    {
     "name": "stdout",
     "output_type": "stream",
     "text": [
      "[ 1  2  3  4  5  6  7  8  9 10 11 12 13 14 15 16 17 18 19 20 21 22]\n",
      "-1250660718674968576 1124000727777607680000\n"
     ]
    },
    {
     "data": {
      "text/plain": [
       "\u001b[0;31mSignature:\u001b[0m \u001b[0mmath\u001b[0m\u001b[0;34m.\u001b[0m\u001b[0mfactorial\u001b[0m\u001b[0;34m(\u001b[0m\u001b[0mn\u001b[0m\u001b[0;34m,\u001b[0m \u001b[0;34m/\u001b[0m\u001b[0;34m)\u001b[0m\u001b[0;34m\u001b[0m\u001b[0;34m\u001b[0m\u001b[0m\n",
       "\u001b[0;31mDocstring:\u001b[0m\n",
       "Find n!.\n",
       "\n",
       "Raise a ValueError if x is negative or non-integral.\n",
       "\u001b[0;31mType:\u001b[0m      builtin_function_or_method"
      ]
     },
     "metadata": {},
     "output_type": "display_data"
    }
   ],
   "source": [
    "import math\n",
    "\n",
    "x = 22 # myfactorial becomes inaccurate for x >~21 due to numerical overflow\n",
    "print(np.arange(1,x+1))\n",
    "\n",
    "print(myfactorial(x),math.factorial(x))\n",
    "math.factorial??"
   ]
  },
  {
   "cell_type": "markdown",
   "metadata": {
    "id": "mmUqDLmwrDlJ"
   },
   "source": [
    "# .\n",
    "# .\n",
    "# ."
   ]
  },
  {
   "cell_type": "markdown",
   "metadata": {
    "id": "QnLbGbcVrGLy"
   },
   "source": [
    "# VIDEO: Global and local variable scopes\n",
    "\n",
    "\n"
   ]
  },
  {
   "cell_type": "code",
   "execution_count": null,
   "metadata": {
    "id": "Vsmbf4VPrN1j"
   },
   "outputs": [],
   "source": [
    "# clear the workspace (restart the kernel)"
   ]
  },
  {
   "cell_type": "code",
   "execution_count": 1,
   "metadata": {
    "id": "Vj08-pssrKg7"
   },
   "outputs": [],
   "source": [
    "def funfun():\n",
    "  x = 7\n",
    "  y = 10\n",
    "  print(x)\n"
   ]
  },
  {
   "cell_type": "code",
   "execution_count": 2,
   "metadata": {
    "id": "hSQRZTvYuu3t"
   },
   "outputs": [
    {
     "name": "stdout",
     "output_type": "stream",
     "text": [
      "7\n"
     ]
    }
   ],
   "source": [
    "funfun()"
   ]
  },
  {
   "cell_type": "code",
   "execution_count": 4,
   "metadata": {
    "id": "q_aIpWdsu8Ds"
   },
   "outputs": [
    {
     "ename": "NameError",
     "evalue": "name 'x' is not defined",
     "output_type": "error",
     "traceback": [
      "\u001b[0;31m---------------------------------------------------------------------------\u001b[0m",
      "\u001b[0;31mNameError\u001b[0m                                 Traceback (most recent call last)",
      "Cell \u001b[0;32mIn[4], line 1\u001b[0m\n\u001b[0;32m----> 1\u001b[0m x\n",
      "\u001b[0;31mNameError\u001b[0m: name 'x' is not defined"
     ]
    }
   ],
   "source": [
    "x"
   ]
  },
  {
   "cell_type": "code",
   "execution_count": 7,
   "metadata": {
    "id": "tHHtdAk5uwh1"
   },
   "outputs": [
    {
     "name": "stdout",
     "output_type": "stream",
     "text": [
      "7\n",
      "None\n",
      "3\n"
     ]
    }
   ],
   "source": [
    "x = 3\n",
    "print( funfun() )\n",
    "print(x) #x is still 3 (python differentiates local & global scope)"
   ]
  },
  {
   "cell_type": "code",
   "execution_count": 8,
   "metadata": {
    "id": "KRQo1GVmu5bt"
   },
   "outputs": [],
   "source": [
    "def funfun():\n",
    "  print(z)"
   ]
  },
  {
   "cell_type": "code",
   "execution_count": 11,
   "metadata": {
    "id": "Uv8o3Ms0vjaz"
   },
   "outputs": [
    {
     "name": "stdout",
     "output_type": "stream",
     "text": [
      "3\n"
     ]
    }
   ],
   "source": [
    "funfun()"
   ]
  },
  {
   "cell_type": "code",
   "execution_count": 10,
   "metadata": {
    "id": "ZTf8b7GEvkyz"
   },
   "outputs": [
    {
     "name": "stdout",
     "output_type": "stream",
     "text": [
      "3\n"
     ]
    }
   ],
   "source": [
    "z = 3\n",
    "funfun()"
   ]
  },
  {
   "cell_type": "code",
   "execution_count": null,
   "metadata": {
    "id": "UugCf6XQvnBL"
   },
   "outputs": [],
   "source": [
    "# rules: \n",
    "#  1) variables created inside a function are local \n",
    "#     (accessible only inside the function)\n",
    "#  2) variables created outside a function are global \n",
    "#    (accessible in or out of the function)"
   ]
  },
  {
   "cell_type": "markdown",
   "metadata": {
    "id": "jrXtsztmv_K0"
   },
   "source": [
    "### Exercise"
   ]
  },
  {
   "cell_type": "code",
   "execution_count": 12,
   "metadata": {
    "id": "YpdI5XDNyW9w"
   },
   "outputs": [],
   "source": [
    "# write a function that flips a coin N times and reports the average\n",
    "\n",
    "import numpy as np\n",
    "\n",
    "def coinflip(N):\n",
    "  propCoinFlips = np.mean( np.random.randn(N)>0 )\n",
    "  print( str(N) + ' coin flips had ' + str(propCoinFlips*100) + '% heads.' )"
   ]
  },
  {
   "cell_type": "code",
   "execution_count": 14,
   "metadata": {
    "id": "q_-9X--ryly_"
   },
   "outputs": [
    {
     "name": "stdout",
     "output_type": "stream",
     "text": [
      "2000 coin flips had 50.3% heads.\n"
     ]
    }
   ],
   "source": [
    "coinflip(2000)"
   ]
  },
  {
   "cell_type": "markdown",
   "metadata": {
    "id": "XMZ0tQvimnkp"
   },
   "source": [
    "# .\n",
    "# .\n",
    "# ."
   ]
  },
  {
   "cell_type": "markdown",
   "metadata": {},
   "source": [
    "# Copies and Referents of Variables"
   ]
  },
  {
   "cell_type": "code",
   "execution_count": 19,
   "metadata": {
    "colab": {
     "base_uri": "https://localhost:8080/"
    },
    "executionInfo": {
     "elapsed": 191,
     "status": "ok",
     "timestamp": 1621927521203,
     "user": {
      "displayName": "Mike X Cohen",
      "photoUrl": "https://lh3.googleusercontent.com/a-/AOh14GhjXSur8ulydyiQQEh2U6pYGIhDN22fqYYNNDg49A=s64",
      "userId": "13901636194183843661"
     },
     "user_tz": -120
    },
    "id": "sKxUPiYAYwFt",
    "outputId": "477bbee3-a671-448d-feac-f49e10603350"
   },
   "outputs": [
    {
     "name": "stdout",
     "output_type": "stream",
     "text": [
      "[5, 3]\n",
      "[5, 3]\n"
     ]
    }
   ],
   "source": [
    "# copies vs. referent\n",
    "\n",
    "a = [4,3]\n",
    "b = a#[:] ##without this, b becomes a referent of a\n",
    "b[0] = 5\n",
    "\n",
    "print(a)\n",
    "print(b)"
   ]
  },
  {
   "cell_type": "code",
   "execution_count": 22,
   "metadata": {
    "colab": {
     "base_uri": "https://localhost:8080/"
    },
    "executionInfo": {
     "elapsed": 181,
     "status": "ok",
     "timestamp": 1621927528471,
     "user": {
      "displayName": "Mike X Cohen",
      "photoUrl": "https://lh3.googleusercontent.com/a-/AOh14GhjXSur8ulydyiQQEh2U6pYGIhDN22fqYYNNDg49A=s64",
      "userId": "13901636194183843661"
     },
     "user_tz": -120
    },
    "id": "VAKNE1LRYwJM",
    "outputId": "9153bcb5-4f9c-48e3-e736-ed550e99d805"
   },
   "outputs": [
    {
     "name": "stdout",
     "output_type": "stream",
     "text": [
      "4627660544\n",
      "4623480960\n"
     ]
    }
   ],
   "source": [
    "print(id(a))\n",
    "print(id(b))"
   ]
  },
  {
   "cell_type": "code",
   "execution_count": 23,
   "metadata": {
    "colab": {
     "base_uri": "https://localhost:8080/"
    },
    "executionInfo": {
     "elapsed": 180,
     "status": "ok",
     "timestamp": 1621927544212,
     "user": {
      "displayName": "Mike X Cohen",
      "photoUrl": "https://lh3.googleusercontent.com/a-/AOh14GhjXSur8ulydyiQQEh2U6pYGIhDN22fqYYNNDg49A=s64",
      "userId": "13901636194183843661"
     },
     "user_tz": -120
    },
    "id": "ksnrXeq-ZZmk",
    "outputId": "dd957b77-46fe-4a63-8cd6-2a569c975d6d"
   },
   "outputs": [
    {
     "name": "stdout",
     "output_type": "stream",
     "text": [
      "4623615488\n",
      "4623480576\n"
     ]
    }
   ],
   "source": [
    "# More general solution to \n",
    "import copy\n",
    "\n",
    "a = {'q':1, 'w':2}\n",
    "b = copy.deepcopy(a)\n",
    "\n",
    "print(id(a))\n",
    "print(id(b))"
   ]
  },
  {
   "cell_type": "markdown",
   "metadata": {},
   "source": [
    "# .\n",
    "# .\n",
    "# ."
   ]
  },
  {
   "cell_type": "markdown",
   "metadata": {
    "id": "bJ9k8CvFmqkY"
   },
   "source": [
    "# VIDEO: Classes and object-oriented programming"
   ]
  },
  {
   "cell_type": "code",
   "execution_count": 24,
   "metadata": {
    "executionInfo": {
     "elapsed": 7,
     "status": "ok",
     "timestamp": 1629449409576,
     "user": {
      "displayName": "Mike X Cohen",
      "photoUrl": "https://lh3.googleusercontent.com/a-/AOh14GhjXSur8ulydyiQQEh2U6pYGIhDN22fqYYNNDg49A=s64",
      "userId": "13901636194183843661"
     },
     "user_tz": -120
    },
    "id": "Rm92iYCo5MrU"
   },
   "outputs": [],
   "source": [
    "# class is like a blueprint for a set of attributes and methods\n",
    "# instance is an example\n",
    "# class is a cookie cutter, instance is an individual cookie\n",
    "\n",
    "class model(object):\n",
    "\n",
    "  # constructor method\n",
    "  def __init__(self, numlayers, numunits, name):\n",
    "    self.layers  = numlayers\n",
    "    self.units   = numunits # these are attributes\n",
    "    self.name    = name\n",
    "    self.weights = 10\n",
    "  \n",
    "  # other methods\n",
    "  def howManyUnits(self):\n",
    "    totalUnits = self.layers * self.units\n",
    "    print(f'There are {totalUnits} units in the model.')\n",
    "\n",
    "  def trainTheModel(self, x):\n",
    "    self.weights += x\n",
    "    return self.weights\n",
    "\n",
    "  # toString method\n",
    "  def __str__(self):\n",
    "    return f'This is a {self.name} architecture.'\n"
   ]
  },
  {
   "cell_type": "code",
   "execution_count": 29,
   "metadata": {
    "colab": {
     "base_uri": "https://localhost:8080/",
     "height": 35
    },
    "executionInfo": {
     "elapsed": 183,
     "status": "ok",
     "timestamp": 1622019930854,
     "user": {
      "displayName": "Mike X Cohen",
      "photoUrl": "https://lh3.googleusercontent.com/a-/AOh14GhjXSur8ulydyiQQEh2U6pYGIhDN22fqYYNNDg49A=s64",
      "userId": "13901636194183843661"
     },
     "user_tz": -120
    },
    "id": "5RXhwn5R6HwD",
    "outputId": "dae7d41d-f463-4016-fd38-1590e42ec1ca"
   },
   "outputs": [
    {
     "data": {
      "text/plain": [
       "'This is a cnn architecture.'"
      ]
     },
     "execution_count": 29,
     "metadata": {},
     "output_type": "execute_result"
    }
   ],
   "source": [
    "# create an instance and check it\n",
    "ex = model(2,3,'cnn')\n",
    "# ex.howManyUnits()\n",
    "str(ex) #inherently calls ex.__str__()"
   ]
  },
  {
   "cell_type": "code",
   "execution_count": 30,
   "metadata": {
    "colab": {
     "base_uri": "https://localhost:8080/"
    },
    "executionInfo": {
     "elapsed": 180,
     "status": "ok",
     "timestamp": 1622019948704,
     "user": {
      "displayName": "Mike X Cohen",
      "photoUrl": "https://lh3.googleusercontent.com/a-/AOh14GhjXSur8ulydyiQQEh2U6pYGIhDN22fqYYNNDg49A=s64",
      "userId": "13901636194183843661"
     },
     "user_tz": -120
    },
    "id": "8zpSRXZL6_kD",
    "outputId": "24921e71-a523-42c2-e573-c20247e3e46b"
   },
   "outputs": [
    {
     "data": {
      "text/plain": [
       "13"
      ]
     },
     "execution_count": 30,
     "metadata": {},
     "output_type": "execute_result"
    }
   ],
   "source": [
    "ex.trainTheModel(3)"
   ]
  },
  {
   "cell_type": "code",
   "execution_count": null,
   "metadata": {
    "id": "lx-JbMKQsQMr"
   },
   "outputs": [],
   "source": [
    "# Exercise: \n",
    "# create a new class so that \n",
    "# 1) the weights is a layers-by-units matrix, \n",
    "# 2) the weights are changed by multiplying by input x and summing input y"
   ]
  },
  {
   "cell_type": "code",
   "execution_count": 37,
   "metadata": {
    "id": "Cq0lypuNEA7a"
   },
   "outputs": [],
   "source": [
    "import numpy as np\n",
    "class model2(object):\n",
    "\n",
    "  # constructor method\n",
    "  def __init__(self,numlayers,numunits,name):\n",
    "    self.layers  = numlayers\n",
    "    self.units   = numunits # these are attributes\n",
    "    self.name    = name\n",
    "    self.weights = np.random.randn(numlayers, numunits)\n",
    "  \n",
    "  # other methods\n",
    "  def howManyUnits(self):\n",
    "    totalUnits = self.layers * self.units\n",
    "    print(f'There are {totalUnits} units in the model.')\n",
    "\n",
    "  def trainTheModel(self,x,y):\n",
    "    self.weights = self.weights*x + y\n",
    "\n",
    "  def __str__(self):\n",
    "    return f'This is a {self.name} architecture.'\n"
   ]
  },
  {
   "cell_type": "code",
   "execution_count": 40,
   "metadata": {
    "colab": {
     "base_uri": "https://localhost:8080/"
    },
    "executionInfo": {
     "elapsed": 188,
     "status": "ok",
     "timestamp": 1622020346309,
     "user": {
      "displayName": "Mike X Cohen",
      "photoUrl": "https://lh3.googleusercontent.com/a-/AOh14GhjXSur8ulydyiQQEh2U6pYGIhDN22fqYYNNDg49A=s64",
      "userId": "13901636194183843661"
     },
     "user_tz": -120
    },
    "id": "wf1KhWc1EBOn",
    "outputId": "64bccc86-f8e1-410e-900a-e495e1041adb"
   },
   "outputs": [
    {
     "name": "stdout",
     "output_type": "stream",
     "text": [
      "[[-0.60368446  0.33326317  0.36794506]\n",
      " [-0.48747528 -1.88033756  0.45508725]]\n"
     ]
    }
   ],
   "source": [
    "ex1 = model2(2,3,'cnn')\n",
    "print(ex1.weights)"
   ]
  },
  {
   "cell_type": "code",
   "execution_count": 53,
   "metadata": {
    "id": "BjDaJF1uEBc3"
   },
   "outputs": [
    {
     "data": {
      "text/plain": [
       "array([[303.7283887 , 423.6576854 , 428.09696731],\n",
       "       [318.60316411, 140.31679236, 439.25116781]])"
      ]
     },
     "execution_count": 53,
     "metadata": {},
     "output_type": "execute_result"
    }
   ],
   "source": [
    "# Potential problems: exploding/vanishing gradients \n",
    "ex1.trainTheModel(2,3)\n",
    "ex1.weights"
   ]
  },
  {
   "cell_type": "code",
   "execution_count": null,
   "metadata": {},
   "outputs": [],
   "source": []
  }
 ],
 "metadata": {
  "colab": {
   "collapsed_sections": [],
   "name": "DUDL_python_functions.ipynb",
   "provenance": []
  },
  "kernelspec": {
   "display_name": "Python 3 (ipykernel)",
   "language": "python",
   "name": "python3"
  },
  "language_info": {
   "codemirror_mode": {
    "name": "ipython",
    "version": 3
   },
   "file_extension": ".py",
   "mimetype": "text/x-python",
   "name": "python",
   "nbconvert_exporter": "python",
   "pygments_lexer": "ipython3",
   "version": "3.12.7"
  }
 },
 "nbformat": 4,
 "nbformat_minor": 4
}
