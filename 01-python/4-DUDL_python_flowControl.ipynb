{
 "cells": [
  {
   "cell_type": "markdown",
   "metadata": {
    "id": "TuYPKd9uoXA5"
   },
   "source": [
    "# COURSE: A deep understanding of deep learning\n",
    "## SECTION: Introduction to Python: flow control\n",
    "#### TEACHER: Mike X Cohen, sincxpress.com\n",
    "##### COURSE URL: udemy.com/course/deeplearning_x/?couponCode=202212\n",
    "##### Modified from original code"
   ]
  },
  {
   "cell_type": "markdown",
   "metadata": {
    "id": "UY3B-6hxoXA7"
   },
   "source": [
    "# .\n",
    "# .\n",
    "# ."
   ]
  },
  {
   "cell_type": "markdown",
   "metadata": {
    "id": "dOPE-7WroXA8"
   },
   "source": [
    "# VIDEO: If-else statements"
   ]
  },
  {
   "cell_type": "code",
   "execution_count": 3,
   "metadata": {
    "id": "OuEaijwOoXA9"
   },
   "outputs": [
    {
     "name": "stdout",
     "output_type": "stream",
     "text": [
      "True is true\n"
     ]
    }
   ],
   "source": [
    "# Pioneer on AI\n",
    "# it allows computers to make their own decision based on context\n",
    "# only runs if the condition is true\n",
    "if True:\n",
    "    print('True is true')\n"
   ]
  },
  {
   "cell_type": "code",
   "execution_count": 9,
   "metadata": {
    "id": "VxeIFlA0oXBC"
   },
   "outputs": [
    {
     "name": "stdout",
     "output_type": "stream",
     "text": [
      "outside if\n"
     ]
    }
   ],
   "source": [
    "if False:\n",
    "    print('False is true') # this never runs\n",
    "\n",
    "print(\"outside if\")"
   ]
  },
  {
   "cell_type": "code",
   "execution_count": 8,
   "metadata": {
    "id": "qeOg1O4coXBG"
   },
   "outputs": [
    {
     "name": "stdout",
     "output_type": "stream",
     "text": [
      "hello\n"
     ]
    }
   ],
   "source": [
    "x = 4\n",
    "\n",
    "if x==4:\n",
    "    print('hello')\n",
    "\n",
    "if '' or 0:\n",
    "    print('Truthy values')"
   ]
  },
  {
   "cell_type": "code",
   "execution_count": 16,
   "metadata": {
    "id": "68dvdiAxoXBM"
   },
   "outputs": [
    {
     "name": "stdout",
     "output_type": "stream",
     "text": [
      "0.42234685172857717 is positive\n"
     ]
    }
   ],
   "source": [
    "#if-else\n",
    "import numpy as np\n",
    "randnum = np.random.randn()\n",
    "\n",
    "if randnum>0:\n",
    "    print(str(randnum) + ' is positive')\n",
    "else:\n",
    "    print(str(randnum) + ' is negative')\n"
   ]
  },
  {
   "cell_type": "code",
   "execution_count": null,
   "metadata": {
    "id": "-5zH_Kv-oXBP"
   },
   "outputs": [],
   "source": [
    "# slightly better coding\n",
    "\n",
    "randnum = np.random.randn()\n",
    "\n",
    "if randnum>0:\n",
    "    outcome = 'positive'\n",
    "else:\n",
    "    outcome = 'negative'\n",
    "\n",
    "print(str(randnum) + ' is ' + outcome)"
   ]
  },
  {
   "cell_type": "code",
   "execution_count": 17,
   "metadata": {
    "id": "l1EgmNknoXBS"
   },
   "outputs": [
    {
     "name": "stdout",
     "output_type": "stream",
     "text": [
      "Yummier!\n"
     ]
    }
   ],
   "source": [
    "# if-elif-else\n",
    "caketype = 'chocolate'\n",
    "\n",
    "if caketype=='carrot':\n",
    "    print('Total yum!')\n",
    "elif caketype=='chocolate':\n",
    "    print('Yummier!')\n",
    "elif caketype=='fruit':\n",
    "    print('Healthy, I guess???')\n",
    "else:\n",
    "    print(\"OK, I'll try it.\")"
   ]
  },
  {
   "cell_type": "code",
   "execution_count": 18,
   "metadata": {
    "id": "LrENploXoXBV"
   },
   "outputs": [
    {
     "name": "stdout",
     "output_type": "stream",
     "text": [
      "I dunno\n"
     ]
    }
   ],
   "source": [
    "# one-liners\n",
    "caketype = 'Carrot'\n",
    "\n",
    "# just put the line right after if\n",
    "if caketype[0]=='c': print('Probably carrot cake.')\n",
    "\n",
    "# <line_to_run_if_true> if <condition> else <line_to_run_if_false>\n",
    "print('Probably carrot cake.') if caketype[0]=='c' else print('I dunno')"
   ]
  },
  {
   "cell_type": "code",
   "execution_count": null,
   "metadata": {
    "id": "ofim2o0BrMhu"
   },
   "outputs": [],
   "source": [
    "# conjunctive conditionals\n",
    "if 1<3 and 4==4:\n",
    "    print('Both conditionals are true')\n",
    "else:\n",
    "    print('At least one condition is false')"
   ]
  },
  {
   "cell_type": "markdown",
   "metadata": {
    "id": "JX0puAfvoXBX"
   },
   "source": [
    "### Exercise"
   ]
  },
  {
   "cell_type": "code",
   "execution_count": null,
   "metadata": {
    "id": "61PD9LGLoXBY"
   },
   "outputs": [],
   "source": [
    "# create a dot product function\n",
    "# function checks that both inputs are numpy arrays (hint: isinstance())\n",
    "# function checks for same length of two input vectors\n",
    "# returns dot product if pass, useful error message otherwise"
   ]
  },
  {
   "cell_type": "code",
   "execution_count": 20,
   "metadata": {
    "id": "upayEav4oXBa"
   },
   "outputs": [],
   "source": [
    "def dotproduct(a,b):\n",
    "    # check that both vectors are numpy arrays\n",
    "    if not (isinstance(a,np.ndarray) and isinstance(b,np.ndarray)):\n",
    "        raise Exception('Must be numpy array')\n",
    "\n",
    "    # check that they have the same length\n",
    "    if not len(a)==len(b):\n",
    "        raise Exception('Must be the same length')\n",
    "    \n",
    "    # return the dot product\n",
    "    return sum(a*b)"
   ]
  },
  {
   "cell_type": "code",
   "execution_count": 25,
   "metadata": {
    "id": "QHe29i0rtUZS"
   },
   "outputs": [
    {
     "name": "stdout",
     "output_type": "stream",
     "text": [
      "[ 3  8 15  4]\n",
      "30\n",
      "30\n"
     ]
    }
   ],
   "source": [
    "v = np.array([1,2,3,4]) # error when list\n",
    "w = np.array([3,4,5,1])\n",
    "\n",
    "print(v * w)\n",
    "print(dotproduct(v,w)) #our implementation\n",
    "print(np.dot(v,w)) #np built-in method for computing dot products"
   ]
  },
  {
   "cell_type": "markdown",
   "metadata": {
    "id": "T1lQoKU0oXBc"
   },
   "source": [
    "# .\n",
    "# .\n",
    "# ."
   ]
  },
  {
   "cell_type": "markdown",
   "metadata": {
    "id": "gDhI5J8hoXBd"
   },
   "source": [
    "# VIDEO: For loops"
   ]
  },
  {
   "cell_type": "code",
   "execution_count": 26,
   "metadata": {
    "id": "7fs4yjRUoXBd"
   },
   "outputs": [
    {
     "name": "stdout",
     "output_type": "stream",
     "text": [
      "0\n",
      "1\n",
      "2\n",
      "3\n",
      "4\n",
      "5\n"
     ]
    }
   ],
   "source": [
    "for i in range(6):\n",
    "    print(i)"
   ]
  },
  {
   "cell_type": "code",
   "execution_count": 1,
   "metadata": {
    "id": "Ft-3xKKdoXBg"
   },
   "outputs": [
    {
     "name": "stdout",
     "output_type": "stream",
     "text": [
      "4 16\n",
      "5 25\n",
      "6 36\n",
      "7 49\n",
      "8 64\n",
      "9 81\n",
      "10 100\n"
     ]
    }
   ],
   "source": [
    "for i in range(4,11):\n",
    "    print(i,i**2)"
   ]
  },
  {
   "cell_type": "code",
   "execution_count": 5,
   "metadata": {
    "id": "DPcS8S1XoXBi"
   },
   "outputs": [
    {
     "name": "stdout",
     "output_type": "stream",
     "text": [
      "Iteration 0 has a value of 3.0\n",
      "Iteration 1 has a value of 6.5\n",
      "Iteration 2 has a value of 10.0\n",
      "Iteration 3 has a value of 13.5\n",
      "Iteration 4 has a value of 17.0\n"
     ]
    }
   ],
   "source": [
    "import numpy as np\n",
    "numbers = np.linspace(3,17,5)\n",
    "\n",
    "for i in range(len(numbers)):\n",
    "    x = numbers[i]\n",
    "    print('Iteration ' + str(i) + ' has a value of ' + str(x))"
   ]
  },
  {
   "cell_type": "code",
   "execution_count": 8,
   "metadata": {},
   "outputs": [
    {
     "name": "stdout",
     "output_type": "stream",
     "text": [
      "3.0\n",
      "6.5\n",
      "10.0\n",
      "13.5\n",
      "17.0\n"
     ]
    }
   ],
   "source": [
    "# Numbers is an Iterable: we can directly loop through its elements\n",
    "for x in numbers:\n",
    "    print(x)"
   ]
  },
  {
   "cell_type": "code",
   "execution_count": 12,
   "metadata": {
    "id": "Px51eEPWoXBl"
   },
   "outputs": [
    {
     "name": "stdout",
     "output_type": "stream",
     "text": [
      "0 is an even number.\n",
      "1 is an odd number.\n",
      "2 is an even number.\n",
      "3 is an odd number.\n",
      "4 is an even number.\n",
      "5 is an odd number.\n",
      "6 is an even number.\n",
      "7 is an odd number.\n",
      "8 is an even number.\n",
      "9 is an odd number.\n",
      "10 is an even number.\n",
      "11 is an odd number.\n",
      "12 is an even number.\n",
      "13 is an odd number.\n",
      "14 is an even number.\n",
      "15 is an odd number.\n",
      "16 is an even number.\n",
      "17 is an odd number.\n"
     ]
    }
   ],
   "source": [
    "#embed multiple flow-control statements\n",
    "# % determines parity (odd/even) of a numbher\n",
    "for n in range(18):\n",
    "    \n",
    "    if n%2==0:\n",
    "        print(str(n) + ' is an even number.')\n",
    "    else:\n",
    "        print(str(n) + ' is an odd number.')\n",
    "        "
   ]
  },
  {
   "cell_type": "code",
   "execution_count": null,
   "metadata": {
    "id": "x2q8LSbGoXBn"
   },
   "outputs": [],
   "source": [
    "# soft- vs. hard-coding\n",
    "\n",
    "iterations = 100\n",
    "\n",
    "for i in range(iterations):\n",
    "    pass\n",
    "\n",
    "for i in range(100):\n",
    "    pass\n"
   ]
  },
  {
   "cell_type": "markdown",
   "metadata": {
    "id": "cuJZZOAXoXBy"
   },
   "source": [
    "### Exercise"
   ]
  },
  {
   "cell_type": "code",
   "execution_count": 25,
   "metadata": {
    "id": "9RMTgsb6oXBy"
   },
   "outputs": [],
   "source": [
    "# create a function that reports the Fibonacci series for input N\n",
    "\n",
    "def fibseq(N):\n",
    "    fib = [0,1]\n",
    "    for i in range(N-2):\n",
    "        fib.append(sum(fib[-2:])) #summing previous 2 elements\n",
    "    return fib\n"
   ]
  },
  {
   "cell_type": "code",
   "execution_count": 26,
   "metadata": {
    "id": "lhtKPGZDzwm-"
   },
   "outputs": [
    {
     "data": {
      "text/plain": [
       "[0, 1, 1, 2, 3, 5, 8, 13, 21, 34]"
      ]
     },
     "execution_count": 26,
     "metadata": {},
     "output_type": "execute_result"
    }
   ],
   "source": [
    "fibseq(10)"
   ]
  },
  {
   "cell_type": "markdown",
   "metadata": {
    "id": "SIhNtPix0pgE"
   },
   "source": [
    "# .\n",
    "# .\n",
    "# ."
   ]
  },
  {
   "cell_type": "markdown",
   "metadata": {
    "id": "viKKWc4EtrfR"
   },
   "source": [
    "# VIDEO: While loop"
   ]
  },
  {
   "cell_type": "code",
   "execution_count": 5,
   "metadata": {
    "id": "PJ8qJ_rwtu_p"
   },
   "outputs": [
    {
     "name": "stdout",
     "output_type": "stream",
     "text": [
      "0\n",
      "1\n",
      "2\n",
      "3\n",
      "4\n",
      "5\n",
      "6\n",
      "7\n"
     ]
    }
   ],
   "source": [
    "# while = for + if\n",
    "toggle = True\n",
    "i = 0\n",
    "\n",
    "while toggle:\n",
    "  print(i)\n",
    "  i += 1\n",
    "\n",
    "  if i==8:\n",
    "    toggle = False\n"
   ]
  },
  {
   "cell_type": "code",
   "execution_count": null,
   "metadata": {
    "id": "Br-lotfWuCQo"
   },
   "outputs": [],
   "source": [
    "# Infinite Loops; plz interrupt the kernel to stop it\n",
    "toggle = True\n",
    "i = 0\n",
    "\n",
    "while toggle:\n",
    "  print(i)\n",
    "\n",
    "  if i==8:\n",
    "    i += 1\n",
    "    toggle = False"
   ]
  },
  {
   "cell_type": "code",
   "execution_count": 31,
   "metadata": {
    "id": "aQV_aN8LuL5w"
   },
   "outputs": [
    {
     "name": "stdout",
     "output_type": "stream",
     "text": [
      "0\n",
      "1\n",
      "2\n",
      "3\n",
      "4\n",
      "5\n",
      "6\n",
      "7\n"
     ]
    }
   ],
   "source": [
    "# Loop with break statement\n",
    "i = 0\n",
    "while True:\n",
    "  print(i)\n",
    "  i += 1\n",
    "  if i==8:\n",
    "    break\n",
    "  # can put more code here..."
   ]
  },
  {
   "cell_type": "code",
   "execution_count": 12,
   "metadata": {
    "id": "b1i_VzpduYCg"
   },
   "outputs": [
    {
     "name": "stdout",
     "output_type": "stream",
     "text": [
      "0\n",
      "1\n",
      "2\n",
      "3\n",
      "4\n",
      "5\n",
      "6\n",
      "7\n"
     ]
    }
   ],
   "source": [
    "# Supports inequality too\n",
    "i = 0\n",
    "while i<8:\n",
    "  print(i)\n",
    "  i += 1"
   ]
  },
  {
   "cell_type": "code",
   "execution_count": null,
   "metadata": {
    "id": "1YRGDI35usVW"
   },
   "outputs": [],
   "source": [
    "# prefer a for-loop when you know the number of iterations in advance\n",
    "# prefer a while loop when you don't know the number of iterations in advance"
   ]
  },
  {
   "cell_type": "code",
   "execution_count": 30,
   "metadata": {
    "id": "3gTzI99zunKX"
   },
   "outputs": [],
   "source": [
    "# Exercise: Make a Poisson-like counter. repeat 100 times\n",
    "\n",
    "# parameter lambda, positive number (10)\n",
    "# 1) initialize a counter = 0, currval = 1\n",
    "# 2) multiply currval by uniform-random number U[0,1]\n",
    "# 3) count iterations until e^(-l)\n",
    "# 4) return counter"
   ]
  },
  {
   "cell_type": "code",
   "execution_count": 21,
   "metadata": {
    "id": "dQhP7IT9uz-X"
   },
   "outputs": [],
   "source": [
    "import numpy as np\n",
    "\n",
    "def poissonCounter(lam):\n",
    "\n",
    "  # initialize\n",
    "  counter,currval = 0,1\n",
    "  target = np.exp(-lam)\n",
    "\n",
    "  # run algorithm (using while vs if)\n",
    "  while currval > target:\n",
    "    currval *= np.random.rand()\n",
    "    counter += 1\n",
    "  \n",
    "  # return result\n",
    "  return counter\n"
   ]
  },
  {
   "cell_type": "code",
   "execution_count": 26,
   "metadata": {
    "id": "68EyWZsyvzyd"
   },
   "outputs": [
    {
     "data": {
      "text/plain": [
       "9"
      ]
     },
     "execution_count": 26,
     "metadata": {},
     "output_type": "execute_result"
    }
   ],
   "source": [
    "poissonCounter(10)"
   ]
  },
  {
   "cell_type": "code",
   "execution_count": 29,
   "metadata": {
    "id": "vFwJxYTNwl2j"
   },
   "outputs": [
    {
     "data": {
      "text/plain": [
       "array([11, 10,  9, 11,  9,  8, 20, 10, 10, 12, 13, 12, 10, 10, 10,  5, 14,\n",
       "       11, 10,  8, 10, 17, 14,  7, 12, 11,  9, 12, 14,  8, 16, 11, 12,  9,\n",
       "        7,  8,  9, 15,  6,  9, 10, 14, 11, 13, 11, 10, 11, 12,  8, 12,  7,\n",
       "       11, 12,  8, 13, 11, 13,  9, 10, 11,  7, 11,  9, 16,  7, 10,  7, 13,\n",
       "       11,  9,  7, 11,  4, 14, 13,  7, 12, 14, 10,  7,  9, 14, 12, 13,  6,\n",
       "       16, 12, 12,  9,  8, 12, 12, 10, 14, 12,  7, 14, 19,  7, 12])"
      ]
     },
     "execution_count": 29,
     "metadata": {},
     "output_type": "execute_result"
    }
   ],
   "source": [
    "# Generates distribution of this counter\n",
    "poissonRand = np.zeros(100)\n",
    "\n",
    "for i in range(100):\n",
    "  poissonRand[i] = poissonCounter(10)\n",
    "\n",
    "poissonRand.astype(int)"
   ]
  },
  {
   "cell_type": "code",
   "execution_count": null,
   "metadata": {
    "id": "g6_lgoHPxLXL"
   },
   "outputs": [],
   "source": [
    "# same functionality but harder to read\n",
    "def poissonCounter(l):\n",
    "  k,p,t = 0,1,np.exp(-l)\n",
    "  while p>t:\n",
    "    k += 1\n",
    "    p *= np.random.rand()\n",
    "  return k\n",
    "\n",
    "# appeal of compactness, maybe intentional\n",
    "# problems:\n",
    "#  1. harder to read\n",
    "#  2. harder to find bugs\n",
    "#  3. harder to modify\n",
    "# don't pay by character"
   ]
  },
  {
   "cell_type": "markdown",
   "metadata": {
    "id": "clOgqR4SyvFC"
   },
   "source": [
    "# .\n",
    "# .\n",
    "# ."
   ]
  },
  {
   "cell_type": "markdown",
   "metadata": {
    "id": "SgjJ3i3UItXi"
   },
   "source": [
    "# VIDEO: Initializing variables"
   ]
  },
  {
   "cell_type": "code",
   "execution_count": null,
   "metadata": {
    "id": "BTGB8h8LIyDn"
   },
   "outputs": [],
   "source": [
    "# Consequences of not initializing variables\n",
    "for i in range(10):\n",
    "  r[i] = i**2\n",
    "\n",
    "print(r)"
   ]
  },
  {
   "cell_type": "code",
   "execution_count": 83,
   "metadata": {
    "id": "sNUDHoYaI7KP"
   },
   "outputs": [
    {
     "name": "stdout",
     "output_type": "stream",
     "text": [
      "[ 0.  1.  4.  9. 16. 25. 36. 49. 64. 81.]\n"
     ]
    }
   ],
   "source": [
    "import numpy as np\n",
    "\n",
    "# Initialize variables using numpy\n",
    "r = np.zeros(10) # return an array of ten 0s\n",
    "# r = np.full(10,1) ##return an array of ten 1s\n",
    "\n",
    "for i in range(10):\n",
    "  r[i] = i**2\n",
    "\n",
    "print(r)"
   ]
  },
  {
   "cell_type": "code",
   "execution_count": 85,
   "metadata": {
    "id": "EJvIfvgiJBJf"
   },
   "outputs": [
    {
     "ename": "NameError",
     "evalue": "name 'r' is not defined",
     "output_type": "error",
     "traceback": [
      "\u001b[0;31m---------------------------------------------------------------------------\u001b[0m",
      "\u001b[0;31mNameError\u001b[0m                                 Traceback (most recent call last)",
      "Cell \u001b[0;32mIn[85], line 2\u001b[0m\n\u001b[1;32m      1\u001b[0m \u001b[38;5;66;03m#(uninitialize) remove variable from python memory buffer\u001b[39;00m\n\u001b[0;32m----> 2\u001b[0m \u001b[38;5;28;01mdel\u001b[39;00m r\n\u001b[1;32m      4\u001b[0m r\n",
      "\u001b[0;31mNameError\u001b[0m: name 'r' is not defined"
     ]
    }
   ],
   "source": [
    "#(uninitialize) remove variable from python memory buffer\n",
    "del r\n",
    "\n",
    "r"
   ]
  },
  {
   "cell_type": "code",
   "execution_count": 93,
   "metadata": {
    "id": "1rvU1E8cJdwW"
   },
   "outputs": [
    {
     "name": "stdout",
     "output_type": "stream",
     "text": [
      "[ 0.  1.  4.  9. 16. 25. 36. 49. 64. 81.]\n"
     ]
    }
   ],
   "source": [
    "# initialize empty np array\n",
    "r = np.array([])\n",
    "for i in range(10):\n",
    "  r = np.append(r,i**2) # Append elements in numpy: Out-of-place operation\n",
    "\n",
    "print(r)"
   ]
  },
  {
   "cell_type": "code",
   "execution_count": 91,
   "metadata": {
    "id": "YxlseuNEOAmo"
   },
   "outputs": [
    {
     "name": "stdout",
     "output_type": "stream",
     "text": [
      "[[0. 0. 0. 0. 0.]\n",
      " [0. 0. 0. 0. 0.]\n",
      " [0. 0. 0. 0. 1.]\n",
      " [0. 0. 0. 0. 1.]]\n"
     ]
    }
   ],
   "source": [
    "# Initialize multi-dimensional np array\n",
    "r = np.zeros((4,5))\n",
    "# Accessing multi-dimensional np array\n",
    "r[2,4] = 1\n",
    "r[3,4] = 1\n",
    "\n",
    "print(r)"
   ]
  },
  {
   "cell_type": "code",
   "execution_count": 100,
   "metadata": {
    "id": "9wx7_Of5KPck"
   },
   "outputs": [
    {
     "name": "stdout",
     "output_type": "stream",
     "text": [
      "{'list-append': 2.0083299996258575, 'np-append': 5.526620999262377, 'np-initialize': 65.51546100035921}\n"
     ]
    }
   ],
   "source": [
    "# Exercise: time all three methods! (append, np.append, initialize)\n",
    "# Important for optimizing code\n",
    "# import time\n",
    "# time.perf_counter() < clock the ongoing time in seconds\n",
    "\n",
    "import time\n",
    "\n",
    "toc = [0]*3\n",
    "N = 10000\n",
    "\n",
    "tic = time.perf_counter()\n",
    "r = []\n",
    "for i in range(N):\n",
    "  r.append(i**2)\n",
    "    \n",
    "toc[0] = (time.perf_counter() - tic)*1000\n",
    "\n",
    "# Stamp the current time (start counting)\n",
    "tic = time.perf_counter()\n",
    "r = np.zeros(N)\n",
    "for i in range(N):\n",
    "  r[i] = i**2\n",
    "toc[1] = (time.perf_counter() - tic)*1000\n",
    "\n",
    "# Stamp the current time (start counting)\n",
    "tic = time.perf_counter()\n",
    "r = np.array([])\n",
    "for i in range(N):\n",
    "  r = np.append(r,i**2)\n",
    "toc[2] = (time.perf_counter() - tic)*1000\n",
    "\n",
    "label = [\"list-append\", \"np-append\", \"np-initialize\"]\n",
    "book = dict(zip(label, toc))\n",
    "print(book) # in ms"
   ]
  },
  {
   "cell_type": "markdown",
   "metadata": {
    "id": "MShgFgk1NdM1"
   },
   "source": [
    "# .\n",
    "# .\n",
    "# ."
   ]
  },
  {
   "cell_type": "markdown",
   "metadata": {
    "id": "tA4dqYBFz-uP"
   },
   "source": [
    "# VIDEO: Enumerate and zip"
   ]
  },
  {
   "cell_type": "code",
   "execution_count": 30,
   "metadata": {
    "id": "QwkT5TVnsVqr"
   },
   "outputs": [
    {
     "name": "stdout",
     "output_type": "stream",
     "text": [
      "Index 0 has value -5.0\n",
      "Index 1 has value -3.333333333333333\n",
      "Index 2 has value -1.6666666666666665\n",
      "Index 3 has value 0.0\n",
      "Index 4 has value 1.666666666666667\n",
      "Index 5 has value 3.333333333333334\n",
      "Index 6 has value 5.0\n",
      "\n",
      "Index 0 has value -5.0\n",
      "Index 1 has value -3.333333333333333\n",
      "Index 2 has value -1.6666666666666665\n",
      "Index 3 has value 0.0\n",
      "Index 4 has value 1.666666666666667\n",
      "Index 5 has value 3.333333333333334\n",
      "Index 6 has value 5.0\n"
     ]
    }
   ],
   "source": [
    "# enumerate\n",
    "import numpy as np\n",
    "\n",
    "somenumbers = np.linspace(-5,5,7)\n",
    "\n",
    "for i in range(len(somenumbers)):\n",
    "  print('Index ' + str(i) + ' has value ' + str(somenumbers[i]))\n",
    "\n",
    "# Compact way to do the above\n",
    "print()\n",
    "for i,n in enumerate(somenumbers):\n",
    "  print('Index ' + str(i) + ' has value ' + str(n))"
   ]
  },
  {
   "cell_type": "code",
   "execution_count": 32,
   "metadata": {
    "colab": {
     "base_uri": "https://localhost:8080/"
    },
    "executionInfo": {
     "elapsed": 501,
     "status": "ok",
     "timestamp": 1621680828431,
     "user": {
      "displayName": "Mike X Cohen",
      "photoUrl": "https://lh3.googleusercontent.com/a-/AOh14GhjXSur8ulydyiQQEh2U6pYGIhDN22fqYYNNDg49A=s64",
      "userId": "13901636194183843661"
     },
     "user_tz": -120
    },
    "id": "CBTkTS8rs_uG",
    "outputId": "11c2d5f0-1b9b-4a34-ed16-cc9bc1cebc09"
   },
   "outputs": [
    {
     "data": {
      "text/plain": [
       "array([False,  True, False, False,  True, False, False, False, False,\n",
       "       False,  True, False,  True, False,  True, False, False, False,\n",
       "        True, False,  True])"
      ]
     },
     "execution_count": 32,
     "metadata": {},
     "output_type": "execute_result"
    }
   ],
   "source": [
    "# Algorithm to determine if each letter in the word is a vowel\n",
    "text = 'Hello my name is Mike'\n",
    "\n",
    "vowels = np.zeros(len(text))\n",
    "\n",
    "for i,l in enumerate(text):\n",
    "  if l in 'aeiou':\n",
    "    vowels[i] = 1\n",
    "\n",
    "vowels != 0"
   ]
  },
  {
   "cell_type": "code",
   "execution_count": 33,
   "metadata": {
    "id": "Z1rLpWp40BgG"
   },
   "outputs": [
    {
     "name": "stdout",
     "output_type": "stream",
     "text": [
      "d 3\n",
      "e 5\n",
      "r 4\n",
      "s 2\n",
      "x 4\n",
      "\n",
      "d 3\n",
      "e 5\n",
      "r 4\n",
      "s 2\n",
      "x 4\n"
     ]
    }
   ],
   "source": [
    "somelist = [3,5,4,2,4]\n",
    "otherlist = ['d','e','r','s','x']\n",
    "\n",
    "for i in range(len(somelist)):\n",
    "  print(otherlist[i] + ' ' + str(somelist[i]))\n",
    "\n",
    "# Compact way to do the above\n",
    "print()\n",
    "for j,i in zip(somelist,otherlist):\n",
    "  print(i,j)"
   ]
  },
  {
   "cell_type": "code",
   "execution_count": 34,
   "metadata": {},
   "outputs": [
    {
     "name": "stdout",
     "output_type": "stream",
     "text": [
      "1 4\n",
      "2 5\n",
      "3 6\n"
     ]
    }
   ],
   "source": [
    "# if lists have different length. The zip cuts off at the one with shortest length\n",
    "listA = [1,2,3]\n",
    "listB = [4,5,6,7]\n",
    "\n",
    "for i,j in zip(listA, listB):\n",
    "    print(i,j)"
   ]
  },
  {
   "cell_type": "code",
   "execution_count": 68,
   "metadata": {
    "id": "_e8-qtsh0Br-"
   },
   "outputs": [
    {
     "data": {
      "text/plain": [
       "<zip at 0x106fc2800>"
      ]
     },
     "execution_count": 68,
     "metadata": {},
     "output_type": "execute_result"
    }
   ],
   "source": [
    "z = zip(somelist,otherlist)\n",
    "z # z[0] says error: it is not subscriptable"
   ]
  },
  {
   "cell_type": "code",
   "execution_count": 67,
   "metadata": {
    "id": "hbdDcgbG1U4D"
   },
   "outputs": [
    {
     "name": "stdout",
     "output_type": "stream",
     "text": [
      "<zip object at 0x106fc2540>\n"
     ]
    },
    {
     "data": {
      "text/plain": [
       "[(3, 'd'), (5, 'e'), (4, 'r'), (2, 's'), (4, 'x')]"
      ]
     },
     "execution_count": 67,
     "metadata": {},
     "output_type": "execute_result"
    }
   ],
   "source": [
    "# Convert zip iterator object to a list\n",
    "print(z) # z gets consumed (empty) after running once\n",
    "list(z)"
   ]
  },
  {
   "cell_type": "code",
   "execution_count": 70,
   "metadata": {
    "id": "1yq0Sg9J0BvT"
   },
   "outputs": [
    {
     "ename": "IndexError",
     "evalue": "list index out of range",
     "output_type": "error",
     "traceback": [
      "\u001b[0;31m---------------------------------------------------------------------------\u001b[0m",
      "\u001b[0;31mIndexError\u001b[0m                                Traceback (most recent call last)",
      "Cell \u001b[0;32mIn[70], line 4\u001b[0m\n\u001b[1;32m      2\u001b[0m lz \u001b[38;5;241m=\u001b[39m \u001b[38;5;28mlist\u001b[39m(z)\n\u001b[1;32m      3\u001b[0m \u001b[38;5;66;03m# Then access elements for this zipped list\u001b[39;00m\n\u001b[0;32m----> 4\u001b[0m \u001b[38;5;28mprint\u001b[39m(lz[\u001b[38;5;241m0\u001b[39m][\u001b[38;5;241m0\u001b[39m])\n",
      "\u001b[0;31mIndexError\u001b[0m: list index out of range"
     ]
    }
   ],
   "source": [
    "# Alternatively, u should store the variables\n",
    "lz = list(z)\n",
    "# Then access elements for this zipped list\n",
    "print(lz[0][0])"
   ]
  },
  {
   "cell_type": "code",
   "execution_count": 73,
   "metadata": {
    "colab": {
     "base_uri": "https://localhost:8080/"
    },
    "executionInfo": {
     "elapsed": 333,
     "status": "ok",
     "timestamp": 1621680985002,
     "user": {
      "displayName": "Mike X Cohen",
      "photoUrl": "https://lh3.googleusercontent.com/a-/AOh14GhjXSur8ulydyiQQEh2U6pYGIhDN22fqYYNNDg49A=s64",
      "userId": "13901636194183843661"
     },
     "user_tz": -120
    },
    "id": "rwt7n9ZG2IdR",
    "outputId": "ba3abcef-f556-4a2a-b99a-c8fc45289509"
   },
   "outputs": [
    {
     "name": "stdout",
     "output_type": "stream",
     "text": [
      "{'alpha': 10, 'beta': 20, 'gamma': 40}\n"
     ]
    },
    {
     "data": {
      "text/plain": [
       "40"
      ]
     },
     "execution_count": 73,
     "metadata": {},
     "output_type": "execute_result"
    }
   ],
   "source": [
    "# Exercise: given these two lists, create a dictionary using zip\n",
    "names = ['alpha','beta','gamma']\n",
    "values = [10,20,40]\n",
    "\n",
    "D = dict(zip(names,values))\n",
    "print(D)\n",
    "D['gamma']"
   ]
  },
  {
   "cell_type": "markdown",
   "metadata": {
    "id": "qYklcACPPmvy"
   },
   "source": [
    "# .\n",
    "# .\n",
    "# ."
   ]
  },
  {
   "cell_type": "markdown",
   "metadata": {
    "id": "a-3Qnx4WyxCe"
   },
   "source": [
    "# VIDEO: Continue"
   ]
  },
  {
   "cell_type": "code",
   "execution_count": 75,
   "metadata": {
    "id": "VSFoQc30yzGX"
   },
   "outputs": [
    {
     "name": "stdout",
     "output_type": "stream",
     "text": [
      "1\n",
      "3\n",
      "5\n",
      "7\n",
      "9\n"
     ]
    }
   ],
   "source": [
    "# continue: skip the current iteration\n",
    "# Print odd numbers\n",
    "for i in range(10):\n",
    "  if i%2==0:\n",
    "    continue\n",
    "  \n",
    "  print(i)"
   ]
  },
  {
   "cell_type": "code",
   "execution_count": 81,
   "metadata": {
    "id": "KwIoIL4Yy4on"
   },
   "outputs": [
    {
     "name": "stdout",
     "output_type": "stream",
     "text": [
      "H\n",
      "l\n",
      "l\n",
      ",\n",
      " \n",
      "m\n",
      "y\n",
      " \n",
      "n\n",
      "m\n",
      " \n",
      "s\n",
      " \n",
      "M\n",
      "k\n"
     ]
    }
   ],
   "source": [
    "# Only print out the consonants\n",
    "text = 'HellO, my name is MikE'\n",
    "\n",
    "for i in text:\n",
    "  if i.lower() in 'aeiou':\n",
    "    continue\n",
    "  print(i)"
   ]
  },
  {
   "cell_type": "markdown",
   "metadata": {
    "id": "EzoZcnUoz8Ra"
   },
   "source": [
    "# .\n",
    "# .\n",
    "# ."
   ]
  },
  {
   "cell_type": "markdown",
   "metadata": {
    "id": "TBevRvSf0A1m"
   },
   "source": [
    "# VIDEO: Single-line loops / List comprehension"
   ]
  },
  {
   "cell_type": "code",
   "execution_count": 114,
   "metadata": {
    "id": "qL1-bIP40GiE"
   },
   "outputs": [
    {
     "name": "stdout",
     "output_type": "stream",
     "text": [
      "I like big numbers: 3\n"
     ]
    }
   ],
   "source": [
    "# reminder of single-line if-else\n",
    "import random\n",
    "\n",
    "x = random.randint(1,10) # randint is inclusive upper bound\n",
    "print('I prefer smaller numbers.') if x>5 \\\n",
    "    else print(f'I like big numbers: {x}')\n"
   ]
  },
  {
   "cell_type": "code",
   "execution_count": 122,
   "metadata": {
    "id": "SL9KavIQ1gzq"
   },
   "outputs": [
    {
     "name": "stdout",
     "output_type": "stream",
     "text": [
      "36\n",
      "49\n",
      "64\n",
      "81\n"
     ]
    },
    {
     "data": {
      "text/plain": [
       "[None, None, None, None]"
      ]
     },
     "execution_count": 122,
     "metadata": {},
     "output_type": "execute_result"
    }
   ],
   "source": [
    "# list comprehension puts the output of print(i**2) into the list\n",
    "# Since print outputs None, the list will be filled with None      \n",
    "# But this serves the purpose of a single-line for loop\n",
    "\n",
    "# for i in range(10):\n",
    "    # if i > 5: \n",
    "        # print(i**2)\n",
    "[print(i**2) for i in range(10) if i > 5]"
   ]
  },
  {
   "cell_type": "code",
   "execution_count": 116,
   "metadata": {
    "id": "vuqcO6al12hp"
   },
   "outputs": [
    {
     "name": "stdout",
     "output_type": "stream",
     "text": [
      "hi\n",
      "None\n"
     ]
    }
   ],
   "source": [
    "n = print('hi')\n",
    "print(n)"
   ]
  },
  {
   "cell_type": "code",
   "execution_count": null,
   "metadata": {
    "id": "WKMFTtCi2nfH"
   },
   "outputs": [],
   "source": [
    "# Exercise (maybe in separate video?)\n",
    "# convert the following loops into single-line loops\n"
   ]
  },
  {
   "cell_type": "code",
   "execution_count": 125,
   "metadata": {
    "id": "X0JOMz0k2son"
   },
   "outputs": [
    {
     "name": "stdout",
     "output_type": "stream",
     "text": [
      "P\n",
      "Y\n",
      "t\n",
      "h\n",
      "o\n",
      "N\n",
      " \n",
      "P\n",
      "Y\n",
      "t\n",
      "h\n",
      "o\n",
      "N\n"
     ]
    }
   ],
   "source": [
    "# Loop through first word\n",
    "text = ['Promising','Yves','that','home','on','Nobb']\n",
    "\n",
    "for word in text:\n",
    "  print(word[0])\n",
    "\n",
    "print(' ')\n",
    "\n",
    "[print(word[0]) for word in text]; # ; suppresses the notebook from outputing final line"
   ]
  },
  {
   "cell_type": "code",
   "execution_count": null,
   "metadata": {
    "id": "KcCvk90p4FTs"
   },
   "outputs": [],
   "source": [
    "# convert range to list\n",
    "\n",
    "newlist = ['']*10\n",
    "\n",
    "for i in range(10):\n",
    "  if i%2==1:\n",
    "    newlist[i] = 'Odd'\n",
    "  else:\n",
    "    newlist[i] = i\n",
    "    \n",
    "newlist"
   ]
  },
  {
   "cell_type": "code",
   "execution_count": null,
   "metadata": {
    "id": "8MBnRwQw38k9"
   },
   "outputs": [],
   "source": [
    "newlist = [ 'Odd' if i%2==1 else i for i in range(10) ] # (expression) for iterater in range\n",
    "newlist"
   ]
  },
  {
   "cell_type": "code",
   "execution_count": 132,
   "metadata": {
    "id": "MP7HY4sV7e8d"
   },
   "outputs": [
    {
     "name": "stdout",
     "output_type": "stream",
     "text": [
      "[-3.  -2.4 -1.8 -1.2 -0.6  0.   0.6  1.2  1.8  2.4  3. ]\n",
      "[9.   5.76 3.24 1.44 0.36 0.   0.36 1.44 3.24 5.76 9.  ]\n",
      " \n",
      "[-3.0, -2.4, -1.7999999999999998, -1.2, -0.6, 0.0, 0.6, 1.2, 1.7999999999999998, 2.4, 3.0]\n",
      "[9.0, 5.76, 3.2399999999999993, 1.44, 0.36, 0.0, 0.36, 1.44, 3.2399999999999993, 5.76, 9.0]\n"
     ]
    }
   ],
   "source": [
    "import numpy as np\n",
    "\n",
    "# exercise 2: repeat using lists and single-line for loops\n",
    "x1 = np.linspace(-3,3,11)\n",
    "y1 = x1**2\n",
    "\n",
    "x2 = [i/(5/3) for i in range(-5,6)]\n",
    "y2 = [i**2 for i in x2]\n",
    "\n",
    "print(x1)\n",
    "print(y1)\n",
    "print(' ')\n",
    "print(x2)\n",
    "print(y2)\n"
   ]
  },
  {
   "cell_type": "markdown",
   "metadata": {
    "id": "SgtkC7wZq_wK"
   },
   "source": [
    "# .\n",
    "# .\n",
    "# ."
   ]
  },
  {
   "cell_type": "markdown",
   "metadata": {
    "id": "xEL-eu87rBbf"
   },
   "source": [
    "# VIDEO: Broadcasting in numpy"
   ]
  },
  {
   "cell_type": "code",
   "execution_count": 37,
   "metadata": {
    "id": "2c1Ij_zUrE7_"
   },
   "outputs": [
    {
     "name": "stdout",
     "output_type": "stream",
     "text": [
      "[[11 22 33]\n",
      " [12 23 34]\n",
      " [13 24 35]\n",
      " [14 25 36]]\n",
      " \n",
      "[[1 2 3]\n",
      " [2 3 4]\n",
      " [3 4 5]\n",
      " [4 5 6]]\n"
     ]
    }
   ],
   "source": [
    "import numpy as np\n",
    "import copy \n",
    "X = np.array([[1,2,3],\n",
    "              [2,3,4],\n",
    "              [3,4,5],\n",
    "              [4,5,6]   ])\n",
    "\n",
    "w = np.array([10,20,30])\n",
    "\n",
    "# goal: add w to each row of X\n",
    "# Given X.shape returns (4,3)\n",
    "# We know X.shape[0] returns 4, the number of rows\n",
    "Y = copy.deepcopy(X)\n",
    "for i in range(X.shape[0]):\n",
    "  Y[i,:] = X[i,:] + w\n",
    "\n",
    "print(Y)\n",
    "print(' ')\n",
    "print(X)"
   ]
  },
  {
   "cell_type": "code",
   "execution_count": 47,
   "metadata": {
    "id": "NwJD0M2OrygU"
   },
   "outputs": [
    {
     "name": "stdout",
     "output_type": "stream",
     "text": [
      "[[1 2 3]\n",
      " [2 3 4]\n",
      " [3 4 5]\n",
      " [4 5 6]]\n",
      " \n",
      "[10 20 30]\n",
      " \n",
      "[[11 22 33]\n",
      " [12 23 34]\n",
      " [13 24 35]\n",
      " [14 25 36]]\n"
     ]
    }
   ],
   "source": [
    "# SHORTCUT: using broadcasting (row-wise)\n",
    "# python expands the row vector [10, 20, 30] into a matrix with repeated rows\n",
    "X = np.array([[1,2,3],\n",
    "              [2,3,4],\n",
    "              [3,4,5],\n",
    "              [4,5,6]   ])\n",
    "w = np.array([10,20,30])\n",
    "\n",
    "Y = X+w\n",
    "\n",
    "print(X), print(' ')\n",
    "print(w), print(' ')\n",
    "print(Y)"
   ]
  },
  {
   "cell_type": "code",
   "execution_count": 48,
   "metadata": {
    "id": "z8ygH7SasqVK"
   },
   "outputs": [
    {
     "name": "stdout",
     "output_type": "stream",
     "text": [
      "[[1 2 3]\n",
      " [2 3 4]\n",
      " [3 4 5]\n",
      " [4 5 6]]\n",
      " \n",
      "[[-1]\n",
      " [ 0]\n",
      " [ 1]\n",
      " [ 0]]\n",
      " \n",
      "[[-1 -2 -3]\n",
      " [ 0  0  0]\n",
      " [ 3  4  5]\n",
      " [ 0  0  0]]\n"
     ]
    }
   ],
   "source": [
    "# broadcasting (column-vector-wise)\n",
    "v = np.array([-1,0,1,0],ndmin=2).T # same as [ [-1],[0],[1],[0] ]\n",
    "\n",
    "print(X), print(' ')\n",
    "print(v), print(' ')\n",
    "print(X*v)"
   ]
  },
  {
   "cell_type": "code",
   "execution_count": 55,
   "metadata": {
    "id": "zwHMum-krS9n"
   },
   "outputs": [
    {
     "name": "stdout",
     "output_type": "stream",
     "text": [
      "[0 1 2 3 4 5 6 7 8]\n",
      " \n",
      "[[0 1 2]\n",
      " [3 4 5]\n",
      " [6 7 8]]\n",
      " \n",
      "[[0 1 2]\n",
      " [3 4 5]\n",
      " [6 7 8]\n",
      " [0 1 2]\n",
      " [3 4 5]\n",
      " [6 7 8]\n",
      " [0 1 2]\n",
      " [3 4 5]\n",
      " [6 7 8]]\n",
      " \n",
      "[[ 0  0  0]\n",
      " [ 3  4  5]\n",
      " [12 14 16]\n",
      " [ 0  3  6]\n",
      " [12 16 20]\n",
      " [30 35 40]\n",
      " [ 0  6 12]\n",
      " [21 28 35]\n",
      " [48 56 64]]\n"
     ]
    }
   ],
   "source": [
    "# exercise: \n",
    "# 1) create an array of integers from 0 to 8 (v)\n",
    "# 2) reshape to a 3x3 matrix (M)\n",
    "# 3) repeat that matrix to 9x3 (C)\n",
    "# 4) broadcast-multiply with initial vector (B)\n",
    "\n",
    "# 1\n",
    "v = np.arange(9)\n",
    "print(v), print(' ')\n",
    "\n",
    "# 2\n",
    "M = np.reshape(v,(3,3))\n",
    "print(M), print(' ')\n",
    "\n",
    "# 3\n",
    "C = np.tile(M,(3,1)) #repeat all rows 3 times, all columns once\n",
    "print(C), print(' ')\n",
    "\n",
    "# 4\n",
    "B = C*np.reshape(v,(len(v),1)) # or reshape(v,(-1,1))\n",
    "print(B)"
   ]
  },
  {
   "cell_type": "markdown",
   "metadata": {
    "id": "3TI65WF8KSMs"
   },
   "source": [
    "# .\n",
    "# .\n",
    "# ."
   ]
  },
  {
   "cell_type": "markdown",
   "metadata": {
    "id": "CDTflEQMPmyq"
   },
   "source": [
    "# VIDEO: Function error checking and handling"
   ]
  },
  {
   "cell_type": "code",
   "execution_count": 59,
   "metadata": {
    "id": "IKNBTWoNPacs"
   },
   "outputs": [
    {
     "data": {
      "text/plain": [
       "12.0"
      ]
     },
     "execution_count": 59,
     "metadata": {},
     "output_type": "execute_result"
    }
   ],
   "source": [
    "# create a function that will input two numbers and output their product\n",
    "def funfun(x,y):\n",
    "  if not isinstance(x,(int,float)):\n",
    "    raise Exception('Input x must be a number.')\n",
    "  if not isinstance(y,(int,float)):\n",
    "    raise Exception('Input y must be a number.')\n",
    "  z = x*y\n",
    "  return z\n",
    "\n",
    "funfun(4.0,3)"
   ]
  },
  {
   "cell_type": "code",
   "execution_count": 70,
   "metadata": {
    "id": "XEreoTyaPail"
   },
   "outputs": [
    {
     "name": "stdout",
     "output_type": "stream",
     "text": [
      "Note: converted x to a float.\n"
     ]
    },
    {
     "data": {
      "text/plain": [
       "12.0"
      ]
     },
     "execution_count": 70,
     "metadata": {},
     "output_type": "execute_result"
    }
   ],
   "source": [
    "# exercise: get this to work:\n",
    "# funfun('4',3)\n",
    "\n",
    "def funfun(x,y):\n",
    "  \n",
    "  # check if x is not a number\n",
    "  if not isinstance(x,(int,float)):\n",
    "\n",
    "    # check if x can be converted to a number\n",
    "    if isinstance(x,str) and x.isnumeric():\n",
    "      x = float(x)\n",
    "      print('Note: converted x to a float.')\n",
    "    \n",
    "    # otherwise give error message\n",
    "    else:\n",
    "      raise Exception('Input x must be a number.')\n",
    "\n",
    "  # This doesn't check if x is a string number\n",
    "  if not isinstance(y,(int,float)):\n",
    "    raise Exception('Input y must be a number.')\n",
    "\n",
    "  z = x*y\n",
    "  return z\n",
    "\n",
    "funfun('4',3)"
   ]
  },
  {
   "cell_type": "code",
   "execution_count": 73,
   "metadata": {
    "colab": {
     "base_uri": "https://localhost:8080/",
     "height": 34
    },
    "executionInfo": {
     "elapsed": 5563,
     "status": "ok",
     "timestamp": 1598302781785,
     "user": {
      "displayName": "Mike X Cohen",
      "photoUrl": "https://lh3.googleusercontent.com/a-/AOh14GhjXSur8ulydyiQQEh2U6pYGIhDN22fqYYNNDg49A=s64",
      "userId": "13901636194183843661"
     },
     "user_tz": -120
    },
    "id": "CLi8zc8PPalT",
    "outputId": "65793fc8-a82f-4505-8181-f4ac2e1a1418"
   },
   "outputs": [
    {
     "name": "stdout",
     "output_type": "stream",
     "text": [
      "Couldn't complete the mission.\n"
     ]
    }
   ],
   "source": [
    "# now try/except\n",
    "# python jumps into except block as soon as error triggers\n",
    "def funfunfun(x,y):\n",
    "  try:\n",
    "    return x**y\n",
    "  except:\n",
    "    print(\"Couldn't complete the mission.\")\n",
    "\n",
    "funfunfun(3,'asdf')"
   ]
  },
  {
   "cell_type": "code",
   "execution_count": null,
   "metadata": {},
   "outputs": [],
   "source": []
  }
 ],
 "metadata": {
  "colab": {
   "collapsed_sections": [],
   "name": "DUDL_python_flowControl.ipynb",
   "provenance": [
    {
     "file_id": "1y9d2ZHYn2Kl-in2mbdfwmVjYLlJfMFkB",
     "timestamp": 1592755593253
    }
   ]
  },
  "kernelspec": {
   "display_name": "Python 3 (ipykernel)",
   "language": "python",
   "name": "python3"
  },
  "language_info": {
   "codemirror_mode": {
    "name": "ipython",
    "version": 3
   },
   "file_extension": ".py",
   "mimetype": "text/x-python",
   "name": "python",
   "nbconvert_exporter": "python",
   "pygments_lexer": "ipython3",
   "version": "3.12.7"
  }
 },
 "nbformat": 4,
 "nbformat_minor": 4
}
