{
 "cells": [
  {
   "cell_type": "markdown",
   "metadata": {
    "id": "tXkTLFPML5lw"
   },
   "source": [
    "# COURSE: A deep understanding of deep learning\n",
    "## SECTION: Introduction to Python: data types\n",
    "#### TEACHER: Mike X Cohen, sincxpress.com\n",
    "##### COURSE URL: udemy.com/course/deeplearning_x/?couponCode=202212\n",
    "##### Code modified from original video"
   ]
  },
  {
   "cell_type": "markdown",
   "metadata": {
    "id": "HfeO5Ot9L5ly",
    "jp-MarkdownHeadingCollapsed": true
   },
   "source": [
    "# .\n",
    "# .\n",
    "# ."
   ]
  },
  {
   "cell_type": "markdown",
   "metadata": {
    "id": "YPyKIaUaL5lz"
   },
   "source": [
    "# VIDEO: Variables"
   ]
  },
  {
   "cell_type": "code",
   "execution_count": 4,
   "metadata": {
    "id": "r37p-clGL5l0"
   },
   "outputs": [],
   "source": [
    "# This is a comment. Python will ignore this text.\n"
   ]
  },
  {
   "cell_type": "code",
   "execution_count": 5,
   "metadata": {
    "id": "AKx0_OaAL5l5"
   },
   "outputs": [],
   "source": [
    "a = 4\n",
    "b = 3"
   ]
  },
  {
   "cell_type": "code",
   "execution_count": 6,
   "metadata": {
    "id": "0_MYVQlIL5l-"
   },
   "outputs": [
    {
     "data": {
      "text/plain": [
       "4"
      ]
     },
     "execution_count": 6,
     "metadata": {},
     "output_type": "execute_result"
    }
   ],
   "source": [
    "a"
   ]
  },
  {
   "cell_type": "code",
   "execution_count": 7,
   "metadata": {
    "id": "OBuRDO9cL5mB"
   },
   "outputs": [
    {
     "data": {
      "text/plain": [
       "3"
      ]
     },
     "execution_count": 7,
     "metadata": {},
     "output_type": "execute_result"
    }
   ],
   "source": [
    "a\n",
    "b"
   ]
  },
  {
   "cell_type": "code",
   "execution_count": 8,
   "metadata": {
    "id": "4sQJyWk7L5mF"
   },
   "outputs": [
    {
     "name": "stdout",
     "output_type": "stream",
     "text": [
      "4\n",
      "3\n"
     ]
    }
   ],
   "source": [
    "print(a) # comments after a line\n",
    "print(b)"
   ]
  },
  {
   "cell_type": "code",
   "execution_count": 9,
   "metadata": {
    "id": "Asvc_OIzL5mJ"
   },
   "outputs": [
    {
     "name": "stdout",
     "output_type": "stream",
     "text": [
      "7 7.0\n"
     ]
    }
   ],
   "source": [
    "c = 7\n",
    "d = 7.0\n",
    "\n",
    "print(c,d)"
   ]
  },
  {
   "cell_type": "code",
   "execution_count": 10,
   "metadata": {
    "id": "vxyjNd-lL5mN"
   },
   "outputs": [
    {
     "data": {
      "text/plain": [
       "float"
      ]
     },
     "execution_count": 10,
     "metadata": {},
     "output_type": "execute_result"
    }
   ],
   "source": [
    "type(c)\n",
    "type(d)"
   ]
  },
  {
   "cell_type": "code",
   "execution_count": 11,
   "metadata": {
    "id": "MVUe32wSL5mR"
   },
   "outputs": [],
   "source": [
    "c = 'hello'\n",
    "d = \"Hey there!\"\n"
   ]
  },
  {
   "cell_type": "code",
   "execution_count": 12,
   "metadata": {
    "id": "RJbge-ZfL5mU"
   },
   "outputs": [
    {
     "ename": "SyntaxError",
     "evalue": "invalid syntax (1475562398.py, line 7)",
     "output_type": "error",
     "traceback": [
      "\u001b[0;36m  Cell \u001b[0;32mIn[12], line 7\u001b[0;36m\u001b[0m\n\u001b[0;31m    not!allowed = 3\u001b[0m\n\u001b[0m       ^\u001b[0m\n\u001b[0;31mSyntaxError\u001b[0m\u001b[0;31m:\u001b[0m invalid syntax\n"
     ]
    }
   ],
   "source": [
    "# define variables and parameters\n",
    "aVariable    = 10\n",
    "filterOrder  = 2048\n",
    "user_name    = 'mike'\n",
    "param4modelA = 42.42\n",
    "\n",
    "not!allowed = 3\n",
    "also#not = 3\n",
    "^nope! = 3\n",
    "\n",
    "# variable naming rule: no non-alphanumeric characters except _\n",
    "# variables may contain numbers but not start with them\n"
   ]
  },
  {
   "cell_type": "code",
   "execution_count": 23,
   "metadata": {
    "id": "nfWfbV_RL5mX"
   },
   "outputs": [
    {
     "name": "stdout",
     "output_type": "stream",
     "text": [
      "Variable   Type     Data/Info\n",
      "-----------------------------\n",
      "a          int      4\n",
      "b          int      3\n",
      "c          float    9.1\n",
      "d          str      Hey there!\n",
      "varA       int      3\n",
      "varB       str      test\n",
      "x          int      7\n",
      "y          float    4.1\n",
      "z          int      0\n"
     ]
    }
   ],
   "source": [
    "%whos"
   ]
  },
  {
   "cell_type": "code",
   "execution_count": 14,
   "metadata": {
    "id": "Li7vhFiDL5ma"
   },
   "outputs": [
    {
     "name": "stdout",
     "output_type": "stream",
     "text": [
      "3\n",
      "test\n"
     ]
    }
   ],
   "source": [
    "# multiple assignment\n",
    "varA,varB = 3,'test'\n",
    "\n",
    "print(varA)\n",
    "print(varB)"
   ]
  },
  {
   "cell_type": "markdown",
   "metadata": {
    "id": "Ej1_rmquL5me"
   },
   "source": [
    "### Exercise:"
   ]
  },
  {
   "cell_type": "code",
   "execution_count": 29,
   "metadata": {
    "id": "leczgtwKL5me"
   },
   "outputs": [],
   "source": [
    "# discover whether it's possible in Python to over-write variables:\n",
    "#  1) within-type (e.g., numeric to a different number)\n",
    "#  2) across-type (e.g., numeric to a string)"
   ]
  },
  {
   "cell_type": "code",
   "execution_count": 30,
   "metadata": {},
   "outputs": [
    {
     "data": {
      "text/plain": [
       "'String'"
      ]
     },
     "execution_count": 30,
     "metadata": {},
     "output_type": "execute_result"
    }
   ],
   "source": [
    "# Answer: yes, you can do 1) and 2)\n",
    "# Evidence\n",
    "x = 3\n",
    "x = \"String\"\n",
    "x"
   ]
  },
  {
   "cell_type": "markdown",
   "metadata": {
    "id": "6BiEBn0YL5mi"
   },
   "source": [
    "# .\n",
    "# .\n",
    "# ."
   ]
  },
  {
   "cell_type": "markdown",
   "metadata": {
    "id": "SkAeODMlL5mi"
   },
   "source": [
    "# VIDEO: Math operators"
   ]
  },
  {
   "cell_type": "code",
   "execution_count": 35,
   "metadata": {
    "id": "dTFUO2NtL5mj"
   },
   "outputs": [],
   "source": [
    "# let's start by creating some variables\n",
    "x = 7\n",
    "y = 4.1\n",
    "z = 0"
   ]
  },
  {
   "cell_type": "code",
   "execution_count": 36,
   "metadata": {
    "colab": {
     "base_uri": "https://localhost:8080/"
    },
    "executionInfo": {
     "elapsed": 4968,
     "status": "ok",
     "timestamp": 1604347508963,
     "user": {
      "displayName": "Mike X Cohen",
      "photoUrl": "https://lh3.googleusercontent.com/a-/AOh14GhjXSur8ulydyiQQEh2U6pYGIhDN22fqYYNNDg49A=s64",
      "userId": "13901636194183843661"
     },
     "user_tz": -60
    },
    "id": "c7pYa8VgL5mm",
    "outputId": "49474997-ae91-43d0-9886-a736102bba3c"
   },
   "outputs": [
    {
     "name": "stdout",
     "output_type": "stream",
     "text": [
      "0\n"
     ]
    }
   ],
   "source": [
    "# Addition and subtraction\n",
    "\n",
    "print( x-7 )\n",
    "\n",
    "c = y + x - 2"
   ]
  },
  {
   "cell_type": "code",
   "execution_count": 38,
   "metadata": {
    "colab": {
     "base_uri": "https://localhost:8080/"
    },
    "executionInfo": {
     "elapsed": 4130,
     "status": "ok",
     "timestamp": 1604347508968,
     "user": {
      "displayName": "Mike X Cohen",
      "photoUrl": "https://lh3.googleusercontent.com/a-/AOh14GhjXSur8ulydyiQQEh2U6pYGIhDN22fqYYNNDg49A=s64",
      "userId": "13901636194183843661"
     },
     "user_tz": -60
    },
    "id": "dA0Q2z3aL5mp",
    "outputId": "b1c26a3f-2e7c-48de-bffa-ae3e904fc9a4"
   },
   "outputs": [
    {
     "name": "stdout",
     "output_type": "stream",
     "text": [
      "28.699999999999996\n"
     ]
    },
    {
     "data": {
      "text/plain": [
       "3"
      ]
     },
     "execution_count": 38,
     "metadata": {},
     "output_type": "execute_result"
    }
   ],
   "source": [
    "# multiplication and division\n",
    "print( x*y ) # note: floating-point algebra is not the same thing as \"real\" algebra\n",
    "4/3\n",
    "4\\\n",
    "  +3 # allows u to continue statement to a newline without syntax error"
   ]
  },
  {
   "cell_type": "code",
   "execution_count": 20,
   "metadata": {
    "colab": {
     "base_uri": "https://localhost:8080/"
    },
    "executionInfo": {
     "elapsed": 1702,
     "status": "ok",
     "timestamp": 1604347251931,
     "user": {
      "displayName": "Mike X Cohen",
      "photoUrl": "https://lh3.googleusercontent.com/a-/AOh14GhjXSur8ulydyiQQEh2U6pYGIhDN22fqYYNNDg49A=s64",
      "userId": "13901636194183843661"
     },
     "user_tz": -60
    },
    "id": "82K70Q7tL5mt",
    "outputId": "387311b8-2dac-49ff-fc30-bc060f07d9e0"
   },
   "outputs": [
    {
     "data": {
      "text/plain": [
       "8"
      ]
     },
     "execution_count": 20,
     "metadata": {},
     "output_type": "execute_result"
    }
   ],
   "source": [
    "# powers\n",
    "2**3"
   ]
  },
  {
   "cell_type": "code",
   "execution_count": null,
   "metadata": {
    "colab": {
     "base_uri": "https://localhost:8080/"
    },
    "executionInfo": {
     "elapsed": 1692,
     "status": "ok",
     "timestamp": 1604347251933,
     "user": {
      "displayName": "Mike X Cohen",
      "photoUrl": "https://lh3.googleusercontent.com/a-/AOh14GhjXSur8ulydyiQQEh2U6pYGIhDN22fqYYNNDg49A=s64",
      "userId": "13901636194183843661"
     },
     "user_tz": -60
    },
    "id": "Y-ydNiArL5mw",
    "outputId": "acc519fb-298e-4808-b2b7-0b85d83532f1"
   },
   "outputs": [
    {
     "name": "stdout",
     "output_type": "stream",
     "text": [
      "4.5\n",
      "3.0\n"
     ]
    }
   ],
   "source": [
    "print( 9**1/2 )\n",
    "\n",
    "# therefore, use parentheses to overwrite order of operations\n",
    "print( 9**(1/2) )"
   ]
  },
  {
   "cell_type": "code",
   "execution_count": null,
   "metadata": {
    "colab": {
     "base_uri": "https://localhost:8080/"
    },
    "executionInfo": {
     "elapsed": 1683,
     "status": "ok",
     "timestamp": 1604347251934,
     "user": {
      "displayName": "Mike X Cohen",
      "photoUrl": "https://lh3.googleusercontent.com/a-/AOh14GhjXSur8ulydyiQQEh2U6pYGIhDN22fqYYNNDg49A=s64",
      "userId": "13901636194183843661"
     },
     "user_tz": -60
    },
    "id": "yLsz8DvbL5m0",
    "outputId": "5c1f61b6-6eca-410e-b54f-b434c63052d8"
   },
   "outputs": [
    {
     "name": "stdout",
     "output_type": "stream",
     "text": [
      "MikeCohen\n",
      "Mike Cohen\n"
     ]
    }
   ],
   "source": [
    "# can we \"add\" strings??\n",
    "firstName = 'Mike'\n",
    "lastName  = 'Cohen'\n",
    "\n",
    "# Overloading: + can be used to concatenate strings but also sum up numbers\n",
    "print( firstName + lastName )\n",
    "print( firstName + ' ' + lastName )"
   ]
  },
  {
   "cell_type": "code",
   "execution_count": null,
   "metadata": {
    "colab": {
     "base_uri": "https://localhost:8080/",
     "height": 186
    },
    "executionInfo": {
     "elapsed": 1688,
     "status": "error",
     "timestamp": 1604347251949,
     "user": {
      "displayName": "Mike X Cohen",
      "photoUrl": "https://lh3.googleusercontent.com/a-/AOh14GhjXSur8ulydyiQQEh2U6pYGIhDN22fqYYNNDg49A=s64",
      "userId": "13901636194183843661"
     },
     "user_tz": -60
    },
    "id": "w7FKwxhtL5m2",
    "outputId": "3df7bd37-40ed-44c5-fa15-9c55addceabf"
   },
   "outputs": [
    {
     "ename": "TypeError",
     "evalue": "ignored",
     "output_type": "error",
     "traceback": [
      "\u001b[0;31m---------------------------------------------------------------------------\u001b[0m",
      "\u001b[0;31mTypeError\u001b[0m                                 Traceback (most recent call last)",
      "\u001b[0;32m<ipython-input-7-bfa6ffd7587f>\u001b[0m in \u001b[0;36m<module>\u001b[0;34m()\u001b[0m\n\u001b[1;32m      1\u001b[0m \u001b[0;31m# just curious...\u001b[0m\u001b[0;34m\u001b[0m\u001b[0;34m\u001b[0m\u001b[0;34m\u001b[0m\u001b[0m\n\u001b[0;32m----> 2\u001b[0;31m \u001b[0mfirstName\u001b[0m \u001b[0;34m-\u001b[0m \u001b[0mlastName\u001b[0m\u001b[0;34m\u001b[0m\u001b[0;34m\u001b[0m\u001b[0m\n\u001b[0m",
      "\u001b[0;31mTypeError\u001b[0m: unsupported operand type(s) for -: 'str' and 'str'"
     ]
    }
   ],
   "source": [
    "# just curious...\n",
    "firstName - lastName"
   ]
  },
  {
   "cell_type": "code",
   "execution_count": null,
   "metadata": {
    "id": "23yC4t2_L5m5"
   },
   "outputs": [],
   "source": [
    "firstName * 3"
   ]
  },
  {
   "cell_type": "code",
   "execution_count": 40,
   "metadata": {
    "id": "tzmXfSXPL5m8"
   },
   "outputs": [
    {
     "name": "stdout",
     "output_type": "stream",
     "text": [
      "7 times 4.1 equals 28.7\n",
      "7  times  4.1  equals  28.699999999999996\n"
     ]
    },
    {
     "ename": "TypeError",
     "evalue": "unsupported operand type(s) for +: 'int' and 'str'",
     "output_type": "error",
     "traceback": [
      "\u001b[0;31m---------------------------------------------------------------------------\u001b[0m",
      "\u001b[0;31mTypeError\u001b[0m                                 Traceback (most recent call last)",
      "Cell \u001b[0;32mIn[40], line 5\u001b[0m\n\u001b[1;32m      2\u001b[0m \u001b[38;5;28mprint\u001b[39m( \u001b[38;5;124m'\u001b[39m\u001b[38;5;124m7 times 4.1 equals 28.7\u001b[39m\u001b[38;5;124m'\u001b[39m )\n\u001b[1;32m      4\u001b[0m \u001b[38;5;28mprint\u001b[39m( x, \u001b[38;5;124m'\u001b[39m\u001b[38;5;124m times \u001b[39m\u001b[38;5;124m'\u001b[39m, y, \u001b[38;5;124m'\u001b[39m\u001b[38;5;124m equals \u001b[39m\u001b[38;5;124m'\u001b[39m, x\u001b[38;5;241m*\u001b[39my )\n\u001b[0;32m----> 5\u001b[0m \u001b[38;5;28mprint\u001b[39m( x \u001b[38;5;241m+\u001b[39m \u001b[38;5;124m'\u001b[39m\u001b[38;5;124m times \u001b[39m\u001b[38;5;124m'\u001b[39m \u001b[38;5;241m+\u001b[39m y \u001b[38;5;241m+\u001b[39m \u001b[38;5;124m'\u001b[39m\u001b[38;5;124m equals \u001b[39m\u001b[38;5;124m'\u001b[39m \u001b[38;5;241m+\u001b[39m x\u001b[38;5;241m*\u001b[39my )\n",
      "\u001b[0;31mTypeError\u001b[0m: unsupported operand type(s) for +: 'int' and 'str'"
     ]
    }
   ],
   "source": [
    "# printing mixed variable types\n",
    "print( '7 times 4.1 equals 28.7' ) \n",
    "\n",
    "print( x ' times ' y ' equals ' x*y ) \n",
    "print( x + ' times ' + y + ' equals ' + x*y )"
   ]
  },
  {
   "cell_type": "code",
   "execution_count": 41,
   "metadata": {
    "id": "YPTvrSWfL5m-"
   },
   "outputs": [
    {
     "name": "stdout",
     "output_type": "stream",
     "text": [
      "7 times 4.1 equals 28.699999999999996\n"
     ]
    }
   ],
   "source": [
    "print( str(x) + ' times ' + str(y) + ' equals ' + str(x*y) )"
   ]
  },
  {
   "cell_type": "code",
   "execution_count": null,
   "metadata": {
    "id": "LotosUYdL5nB"
   },
   "outputs": [],
   "source": [
    "# inputting data from the user\n",
    "ans = input('Feed me a stray cat ')\n",
    "print(ans)\n",
    "print(type(ans))"
   ]
  },
  {
   "cell_type": "code",
   "execution_count": null,
   "metadata": {
    "id": "Ecwi9eqYL5nE"
   },
   "outputs": [],
   "source": [
    "ans*10\n",
    "\n"
   ]
  },
  {
   "cell_type": "code",
   "execution_count": null,
   "metadata": {
    "id": "Hi6yzEr9L5nG"
   },
   "outputs": [],
   "source": [
    "numans = input( 'Input a number: ' )\n",
    "numans = float(numans)\n",
    "\n",
    "type(numans)"
   ]
  },
  {
   "cell_type": "markdown",
   "metadata": {
    "id": "1Dvqf6g2L5nJ"
   },
   "source": [
    "### Exercise"
   ]
  },
  {
   "cell_type": "code",
   "execution_count": 42,
   "metadata": {
    "id": "uAqWvck7L5nK"
   },
   "outputs": [
    {
     "name": "stdin",
     "output_type": "stream",
     "text": [
      "Length of side a:  1\n",
      "Length of side b:  1\n"
     ]
    },
    {
     "name": "stdout",
     "output_type": "stream",
     "text": [
      " \n",
      "The length of side c is 1.4142135623730951\n"
     ]
    }
   ],
   "source": [
    "# The goal is to apply the Pythagorean theorem.\n",
    "#  Input from the user two lengths, and you return the third length\n",
    "side1 = int( input('Length of side a: ') )\n",
    "side2 = int( input('Length of side b: ') )\n",
    "\n",
    "thirdside = (side1**2 + side2**2)**(1/2)\n",
    "\n",
    "print(' ')\n",
    "print( 'The length of side c is ' + str( thirdside ) )"
   ]
  },
  {
   "cell_type": "markdown",
   "metadata": {
    "id": "mmkfcnJVL5nN"
   },
   "source": [
    "# .\n",
    "# .\n",
    "# ."
   ]
  },
  {
   "cell_type": "markdown",
   "metadata": {
    "id": "1KustwXXL5nO"
   },
   "source": [
    "# VIDEO: Lists"
   ]
  },
  {
   "cell_type": "code",
   "execution_count": 46,
   "metadata": {
    "id": "07d-roE_L5nO"
   },
   "outputs": [
    {
     "data": {
      "text/plain": [
       "[0, 1, 2, 3, 4, 5]"
      ]
     },
     "execution_count": 46,
     "metadata": {},
     "output_type": "execute_result"
    }
   ],
   "source": [
    "aList = [0,1,2,3,4,5]\n",
    "\n",
    "aList"
   ]
  },
  {
   "cell_type": "code",
   "execution_count": 47,
   "metadata": {},
   "outputs": [
    {
     "data": {
      "text/plain": [
       "list"
      ]
     },
     "execution_count": 47,
     "metadata": {},
     "output_type": "execute_result"
    }
   ],
   "source": [
    "type(aList)"
   ]
  },
  {
   "cell_type": "code",
   "execution_count": 45,
   "metadata": {
    "id": "lnRylwNYL5nW"
   },
   "outputs": [
    {
     "data": {
      "text/plain": [
       "['hi', 'my', 'name', 'is', 'Mike']"
      ]
     },
     "execution_count": 45,
     "metadata": {},
     "output_type": "execute_result"
    }
   ],
   "source": [
    "strList = [ 'hi','my','name','is','Mike' ]\n",
    "strList"
   ]
  },
  {
   "cell_type": "code",
   "execution_count": null,
   "metadata": {
    "id": "15sb3LOiL5nZ"
   },
   "outputs": [],
   "source": [
    "mixList = [ 3,'three',4,'four' ]\n",
    "mixList"
   ]
  },
  {
   "cell_type": "code",
   "execution_count": null,
   "metadata": {
    "id": "iipXRCscL5nd"
   },
   "outputs": [],
   "source": [
    "listList = [ 3,['3','4','5'],5,[4,5,6] ]\n",
    "listList"
   ]
  },
  {
   "cell_type": "code",
   "execution_count": 49,
   "metadata": {
    "id": "2qTgUlHBL5ng"
   },
   "outputs": [
    {
     "data": {
      "text/plain": [
       "[3, ['3', 'h', '5'], 5, [4, 5, 6]]"
      ]
     },
     "execution_count": 49,
     "metadata": {},
     "output_type": "execute_result"
    }
   ],
   "source": [
    "# Vertical organization of the list\n",
    "listList = [ \n",
    "            3,              # a number\n",
    "            ['3','h','5'],  # a list of strings\n",
    "            5,              # another number\n",
    "            [4,5,6]         # a list of numbers\n",
    "           ]\n",
    "\n",
    "listList"
   ]
  },
  {
   "cell_type": "code",
   "execution_count": null,
   "metadata": {
    "id": "iRZBZUOnL5nj"
   },
   "outputs": [],
   "source": [
    "# test whether an item is in a list\n",
    "4 in aList"
   ]
  },
  {
   "cell_type": "code",
   "execution_count": null,
   "metadata": {
    "id": "ydqKSILIL5nm"
   },
   "outputs": [],
   "source": [
    "print( 4 in aList )\n",
    "\n",
    "print( 14 in aList )\n",
    "print( 14 not in aList )"
   ]
  },
  {
   "cell_type": "code",
   "execution_count": 50,
   "metadata": {
    "id": "cfooFoReL5np"
   },
   "outputs": [
    {
     "data": {
      "text/plain": [
       "[0, 1, 2, 3, 4, 5, 'hi', 'my', 'name', 'is', 'Mike']"
      ]
     },
     "execution_count": 50,
     "metadata": {},
     "output_type": "execute_result"
    }
   ],
   "source": [
    "# Concatnate list items\n",
    "aList + strList"
   ]
  },
  {
   "cell_type": "code",
   "execution_count": 52,
   "metadata": {
    "id": "g5xmWdGfL5nr"
   },
   "outputs": [
    {
     "data": {
      "text/plain": [
       "[0, 1, 2, 3, 4, 5, 0, 1, 2, 3, 4, 5, 0, 1, 2, 3, 4, 5]"
      ]
     },
     "execution_count": 52,
     "metadata": {},
     "output_type": "execute_result"
    }
   ],
   "source": [
    "# Repeat the list items 3 times\n",
    "aList*3"
   ]
  },
  {
   "cell_type": "code",
   "execution_count": 54,
   "metadata": {
    "colab": {
     "base_uri": "https://localhost:8080/",
     "height": 34
    },
    "executionInfo": {
     "elapsed": 624,
     "status": "ok",
     "timestamp": 1592739550657,
     "user": {
      "displayName": "Mike X Cohen",
      "photoUrl": "https://lh3.googleusercontent.com/a-/AOh14GhjXSur8ulydyiQQEh2U6pYGIhDN22fqYYNNDg49A=s64",
      "userId": "13901636194183843661"
     },
     "user_tz": -120
    },
    "id": "PN0-IOkKL5nu",
    "outputId": "5314bbd3-4fbf-4222-8d87-f19f76f67b43"
   },
   "outputs": [
    {
     "data": {
      "text/plain": [
       "{3, 4, 5, 6, 7}"
      ]
     },
     "execution_count": 54,
     "metadata": {},
     "output_type": "execute_result"
    }
   ],
   "source": [
    "newlist = [4,3,4,5,6,7,7,7,7]\n",
    "\n",
    "set(newlist)"
   ]
  },
  {
   "cell_type": "code",
   "execution_count": 56,
   "metadata": {
    "id": "tRIv014_L5nx"
   },
   "outputs": [
    {
     "name": "stdout",
     "output_type": "stream",
     "text": [
      "[0, 1, 2, 3, 4, 5]\n",
      "[0, 1, 2, 3, 4, 5, -100]\n",
      "[-100, 0, 1, 2, 3, 4, 5]\n"
     ]
    }
   ],
   "source": [
    "## some list methods \n",
    "\n",
    "# show the original\n",
    "print(aList)\n",
    "\n",
    "# add a new element\n",
    "aList.append(-100)\n",
    "print(aList)\n",
    "\n",
    "# sort\n",
    "aList.sort()\n",
    "print(aList)"
   ]
  },
  {
   "cell_type": "markdown",
   "metadata": {
    "id": "dY5qZx9PL5n0"
   },
   "source": [
    "### Exercise"
   ]
  },
  {
   "cell_type": "code",
   "execution_count": 55,
   "metadata": {
    "id": "J_QFhQcjL5n0"
   },
   "outputs": [
    {
     "data": {
      "text/plain": [
       "4"
      ]
     },
     "execution_count": 55,
     "metadata": {},
     "output_type": "execute_result"
    }
   ],
   "source": [
    "# Use a list method to find the number of 7's in newlist\n",
    "newlist.count(7)"
   ]
  },
  {
   "cell_type": "markdown",
   "metadata": {
    "id": "CZNFhClDL5n3"
   },
   "source": [
    "# .\n",
    "# .\n",
    "# ."
   ]
  },
  {
   "cell_type": "markdown",
   "metadata": {
    "id": "Kqyz_ZK9x-B3"
   },
   "source": [
    "# VIDEO: Lists part 2"
   ]
  },
  {
   "cell_type": "code",
   "execution_count": 57,
   "metadata": {
    "colab": {
     "base_uri": "https://localhost:8080/",
     "height": 52
    },
    "executionInfo": {
     "elapsed": 753,
     "status": "ok",
     "timestamp": 1595929364286,
     "user": {
      "displayName": "Mike X Cohen",
      "photoUrl": "https://lh3.googleusercontent.com/a-/AOh14GhjXSur8ulydyiQQEh2U6pYGIhDN22fqYYNNDg49A=s64",
      "userId": "13901636194183843661"
     },
     "user_tz": -120
    },
    "id": "MVVIFB9-yAOs",
    "outputId": "d3786921-1614-43ff-b911-1a3c630ec7e6"
   },
   "outputs": [
    {
     "name": "stdout",
     "output_type": "stream",
     "text": [
      "[1, 2, 3, 4, 5]\n",
      "[1, 2, 3, 4, 5, 7]\n"
     ]
    }
   ],
   "source": [
    "# append, insert, remove, del, sort\n",
    "\n",
    "lst = [1,2,3,4,5]\n",
    "\n",
    "print(lst)\n",
    "lst.append(7)\n",
    "print(lst)\n"
   ]
  },
  {
   "cell_type": "code",
   "execution_count": 59,
   "metadata": {
    "colab": {
     "base_uri": "https://localhost:8080/",
     "height": 35
    },
    "executionInfo": {
     "elapsed": 720,
     "status": "ok",
     "timestamp": 1595929367059,
     "user": {
      "displayName": "Mike X Cohen",
      "photoUrl": "https://lh3.googleusercontent.com/a-/AOh14GhjXSur8ulydyiQQEh2U6pYGIhDN22fqYYNNDg49A=s64",
      "userId": "13901636194183843661"
     },
     "user_tz": -120
    },
    "id": "-xy0ERexyiIN",
    "outputId": "67354f00-2a78-4788-dd30-9cbe6936404b"
   },
   "outputs": [
    {
     "name": "stdout",
     "output_type": "stream",
     "text": [
      "[1, 2, 20, 20, 3, 4, 5, 7]\n"
     ]
    }
   ],
   "source": [
    "# Insert 20 at index 2 of the list\n",
    "lst.insert(2,20)\n",
    "print(lst)"
   ]
  },
  {
   "cell_type": "code",
   "execution_count": 60,
   "metadata": {
    "colab": {
     "base_uri": "https://localhost:8080/",
     "height": 52
    },
    "executionInfo": {
     "elapsed": 930,
     "status": "ok",
     "timestamp": 1595929377401,
     "user": {
      "displayName": "Mike X Cohen",
      "photoUrl": "https://lh3.googleusercontent.com/a-/AOh14GhjXSur8ulydyiQQEh2U6pYGIhDN22fqYYNNDg49A=s64",
      "userId": "13901636194183843661"
     },
     "user_tz": -120
    },
    "id": "_i1tF15nzIFL",
    "outputId": "e39f7be7-4489-4a85-e5ed-7127421ea7ee"
   },
   "outputs": [
    {
     "name": "stdout",
     "output_type": "stream",
     "text": [
      "[1, 2, 20, 20, 3, 4, 5, 7, 3]\n",
      "[1, 2, 20, 20, 4, 5, 7, 3]\n"
     ]
    }
   ],
   "source": [
    "lst.append(3)\n",
    "print(lst)\n",
    "# Move ur cursor inside the parenthesis, then hold Shift-Tab to view information of the function\n",
    "# Looks like this removes the first occurrence of value 3 in the list\n",
    "lst.remove(3)\n",
    "print(lst)"
   ]
  },
  {
   "cell_type": "code",
   "execution_count": null,
   "metadata": {
    "colab": {
     "base_uri": "https://localhost:8080/",
     "height": 69
    },
    "executionInfo": {
     "elapsed": 698,
     "status": "ok",
     "timestamp": 1595929633018,
     "user": {
      "displayName": "Mike X Cohen",
      "photoUrl": "https://lh3.googleusercontent.com/a-/AOh14GhjXSur8ulydyiQQEh2U6pYGIhDN22fqYYNNDg49A=s64",
      "userId": "13901636194183843661"
     },
     "user_tz": -120
    },
    "id": "UKrnY71GzNrB",
    "outputId": "d1d866a5-eb31-4b82-f8dc-75b06e532214"
   },
   "outputs": [
    {
     "name": "stdout",
     "output_type": "stream",
     "text": [
      "[20, 7, 5, 4, 3, 2, 1]\n",
      "[1, 2, 3, 4, 5, 7, 20]\n",
      "[20, 7, 5, 4, 3, 2, 1]\n"
     ]
    }
   ],
   "source": [
    "print(lst)\n",
    "\n",
    "lst.sort()\n",
    "print(lst)\n",
    "\n",
    "lst.sort(reverse=True)\n",
    "print(lst)"
   ]
  },
  {
   "cell_type": "code",
   "execution_count": 64,
   "metadata": {
    "colab": {
     "base_uri": "https://localhost:8080/",
     "height": 184
    },
    "executionInfo": {
     "elapsed": 759,
     "status": "error",
     "timestamp": 1595929642223,
     "user": {
      "displayName": "Mike X Cohen",
      "photoUrl": "https://lh3.googleusercontent.com/a-/AOh14GhjXSur8ulydyiQQEh2U6pYGIhDN22fqYYNNDg49A=s64",
      "userId": "13901636194183843661"
     },
     "user_tz": -120
    },
    "id": "N3I__z2e0Z3e",
    "outputId": "54c05742-e2d9-4cf8-8b6a-f48a00c83886"
   },
   "outputs": [
    {
     "ename": "TypeError",
     "evalue": "'<' not supported between instances of 'str' and 'int'",
     "output_type": "error",
     "traceback": [
      "\u001b[0;31m---------------------------------------------------------------------------\u001b[0m",
      "\u001b[0;31mTypeError\u001b[0m                                 Traceback (most recent call last)",
      "Cell \u001b[0;32mIn[64], line 2\u001b[0m\n\u001b[1;32m      1\u001b[0m lst\u001b[38;5;241m.\u001b[39mappend(\u001b[38;5;124m'\u001b[39m\u001b[38;5;124mhi\u001b[39m\u001b[38;5;124m'\u001b[39m)\n\u001b[0;32m----> 2\u001b[0m lst\u001b[38;5;241m.\u001b[39msort()\n",
      "\u001b[0;31mTypeError\u001b[0m: '<' not supported between instances of 'str' and 'int'"
     ]
    }
   ],
   "source": [
    "lst.append('hi')\n",
    "lst.sort()"
   ]
  },
  {
   "cell_type": "markdown",
   "metadata": {},
   "source": [
    "### Exercise"
   ]
  },
  {
   "cell_type": "code",
   "execution_count": 67,
   "metadata": {},
   "outputs": [
    {
     "data": {
      "text/plain": [
       "[20, 20, 7, 5, 4, 3, 2, 1]"
      ]
     },
     "execution_count": 67,
     "metadata": {},
     "output_type": "execute_result"
    }
   ],
   "source": [
    "# Remove the string hi\n",
    "# So we can then sort the string in decreasing order\n",
    "if 'hi' in lst: lst.remove('hi')\n",
    "lst.sort(reverse=True)\n",
    "lst"
   ]
  },
  {
   "cell_type": "markdown",
   "metadata": {
    "id": "6H0ZmcnHL5n3"
   },
   "source": [
    "# VIDEO: Tuples"
   ]
  },
  {
   "cell_type": "code",
   "execution_count": 68,
   "metadata": {
    "id": "2gUCfHd9L5n4"
   },
   "outputs": [
    {
     "data": {
      "text/plain": [
       "(3, '4', 3, 3, '4', 3, 3, '4', 3)"
      ]
     },
     "execution_count": 68,
     "metadata": {},
     "output_type": "execute_result"
    }
   ],
   "source": [
    "atuple = ( 3,'4',3 )\n",
    "\n",
    "atuple*3"
   ]
  },
  {
   "cell_type": "code",
   "execution_count": null,
   "metadata": {
    "id": "MWObZggSL5n9"
   },
   "outputs": [],
   "source": [
    "atuple.count(3)"
   ]
  },
  {
   "cell_type": "code",
   "execution_count": null,
   "metadata": {
    "id": "6e_V_6zUL5oB"
   },
   "outputs": [],
   "source": [
    "alist = list(atuple)\n",
    "\n",
    "print(atuple)\n",
    "print(alist)"
   ]
  },
  {
   "cell_type": "code",
   "execution_count": null,
   "metadata": {
    "id": "XN68JueNL5oE"
   },
   "outputs": [],
   "source": [
    "# tuples are immutable\n",
    "atuple[0] = 5"
   ]
  },
  {
   "cell_type": "code",
   "execution_count": null,
   "metadata": {
    "id": "aaecbwSjL5oJ"
   },
   "outputs": [],
   "source": [
    "# lists are mutable\n",
    "alist[0] = 5\n",
    "alist"
   ]
  },
  {
   "cell_type": "markdown",
   "metadata": {
    "id": "GazmOLDGL5oN"
   },
   "source": [
    "# .\n",
    "# .\n",
    "# ."
   ]
  },
  {
   "cell_type": "markdown",
   "metadata": {
    "id": "W1Zd8vcqL5oN"
   },
   "source": [
    "# VIDEO: Booleans"
   ]
  },
  {
   "cell_type": "code",
   "execution_count": null,
   "metadata": {
    "id": "K08ahsscL5oO"
   },
   "outputs": [],
   "source": [
    "boolTrue = True\n",
    "booltrue = 'true'\n",
    "\n",
    "%whos"
   ]
  },
  {
   "cell_type": "code",
   "execution_count": null,
   "metadata": {
    "id": "G7jS93EuL5oQ"
   },
   "outputs": [],
   "source": [
    "# comparisons\n",
    "4 == 4"
   ]
  },
  {
   "cell_type": "code",
   "execution_count": null,
   "metadata": {
    "id": "Ox4SqjQZL5oU"
   },
   "outputs": [],
   "source": [
    "4>5"
   ]
  },
  {
   "cell_type": "code",
   "execution_count": null,
   "metadata": {
    "id": "eC955ZP6L5oW"
   },
   "outputs": [],
   "source": [
    "4>4"
   ]
  },
  {
   "cell_type": "code",
   "execution_count": null,
   "metadata": {
    "id": "FAxY-dN4L5oZ"
   },
   "outputs": [],
   "source": [
    "4>=4"
   ]
  },
  {
   "cell_type": "code",
   "execution_count": null,
   "metadata": {
    "id": "_ut1D_XhL5oc"
   },
   "outputs": [],
   "source": [
    "4 != 5"
   ]
  },
  {
   "cell_type": "code",
   "execution_count": null,
   "metadata": {
    "id": "KuLTFPB2L5of"
   },
   "outputs": [],
   "source": [
    "a = 8\n",
    "b = 4\n",
    "\n",
    "outcome = a == b*2\n",
    "print(outcome)"
   ]
  },
  {
   "cell_type": "code",
   "execution_count": null,
   "metadata": {
    "id": "SstZFpeML5oj"
   },
   "outputs": [],
   "source": [
    "# conjunctive comparisons\n",
    "# both needs to be true\n",
    "14>5 and 7<10"
   ]
  },
  {
   "cell_type": "code",
   "execution_count": 71,
   "metadata": {
    "id": "_fpA01iAL5on"
   },
   "outputs": [
    {
     "data": {
      "text/plain": [
       "True"
      ]
     },
     "execution_count": 71,
     "metadata": {},
     "output_type": "execute_result"
    }
   ],
   "source": [
    "# disjunctive comparisons\n",
    "# only need 1 to be true\n",
    "14>5 or 7>10"
   ]
  },
  {
   "cell_type": "code",
   "execution_count": 77,
   "metadata": {
    "colab": {
     "base_uri": "https://localhost:8080/",
     "height": 122
    },
    "executionInfo": {
     "elapsed": 516,
     "status": "ok",
     "timestamp": 1592741637787,
     "user": {
      "displayName": "Mike X Cohen",
      "photoUrl": "https://lh3.googleusercontent.com/a-/AOh14GhjXSur8ulydyiQQEh2U6pYGIhDN22fqYYNNDg49A=s64",
      "userId": "13901636194183843661"
     },
     "user_tz": -120
    },
    "id": "mPU25S82L5oq",
    "outputId": "2a240d12-8e0c-44ab-e3e9-6b904447264e"
   },
   "outputs": [
    {
     "name": "stdout",
     "output_type": "stream",
     "text": [
      "Falsy Values:\n",
      "False\n",
      "False\n",
      "False\n",
      "Truthy Values:\n",
      "True\n",
      "True\n",
      "True\n"
     ]
    }
   ],
   "source": [
    "# converting to boolean\n",
    "print('Falsy Values:')\n",
    "print( bool(0.0) )\n",
    "print( bool(0) )\n",
    "print( bool('') )\n",
    "\n",
    "print('Truthy Values:')\n",
    "print( bool(10) )\n",
    "print( bool('asdf') )\n",
    "print( bool(' ') )"
   ]
  },
  {
   "cell_type": "markdown",
   "metadata": {
    "id": "aBiJ7Mv6L5ot"
   },
   "source": [
    "### Exercise"
   ]
  },
  {
   "cell_type": "code",
   "execution_count": null,
   "metadata": {
    "id": "oU60HNCBL5ou"
   },
   "outputs": [],
   "source": [
    "# Ask users to input Pythagorean triplet, check whether it's real"
   ]
  },
  {
   "cell_type": "code",
   "execution_count": 81,
   "metadata": {
    "id": "HkpjxvPcL5oy"
   },
   "outputs": [
    {
     "name": "stdout",
     "output_type": "stream",
     "text": [
      "Let's test your knowledge of Pythagorean triples!\n"
     ]
    },
    {
     "name": "stdin",
     "output_type": "stream",
     "text": [
      "Input length of side a:  3\n",
      "Input length of side b:  4\n",
      "Input length of side c:  5\n"
     ]
    },
    {
     "name": "stdout",
     "output_type": "stream",
     "text": [
      "Your answer is True!!\n"
     ]
    }
   ],
   "source": [
    "print(\"Let's test your knowledge of Pythagorean triples!\")\n",
    "\n",
    "# input from 3 numbers: a, b, c\n",
    "sidea = float(input('Input length of side a: '))\n",
    "sideb = float(input('Input length of side b: '))\n",
    "sidec = float(input('Input length of side c: '))\n",
    "\n",
    "# check whether c**2 = a**2 + b**2\n",
    "isPythTriplet = sidea**2 + sideb**2 == sidec**2\n",
    "\n",
    "print('Your answer is ' + str(isPythTriplet) + '!!')\n"
   ]
  },
  {
   "cell_type": "markdown",
   "metadata": {
    "id": "4A_Io0qcL5o1"
   },
   "source": [
    "# .\n",
    "# .\n",
    "# ."
   ]
  },
  {
   "cell_type": "markdown",
   "metadata": {
    "id": "yhLuxUWCL5o1"
   },
   "source": [
    "# VIDEO: Dictionaries"
   ]
  },
  {
   "cell_type": "code",
   "execution_count": 84,
   "metadata": {
    "id": "9qypKW37L5o1"
   },
   "outputs": [
    {
     "data": {
      "text/plain": [
       "{}"
      ]
     },
     "execution_count": 84,
     "metadata": {},
     "output_type": "execute_result"
    }
   ],
   "source": [
    "# [] lists\n",
    "# () tuples\n",
    "# {} dictionaries; they have key/value pairs\n",
    "D = dict()\n",
    "D"
   ]
  },
  {
   "cell_type": "code",
   "execution_count": null,
   "metadata": {
    "id": "29lrDJO4L5o4"
   },
   "outputs": [],
   "source": [
    "# Populating dictionaries\n",
    "D['name'] = 'Mike' # key/value pairs\n",
    "D['AgeRange'] = [20,50]\n",
    "\n",
    "D"
   ]
  },
  {
   "cell_type": "code",
   "execution_count": 86,
   "metadata": {
    "id": "2vQTkR1jL5o8"
   },
   "outputs": [
    {
     "data": {
      "text/plain": [
       "{'name': 'Mike', 'AgeRange': [20, 50]}"
      ]
     },
     "execution_count": 86,
     "metadata": {},
     "output_type": "execute_result"
    }
   ],
   "source": [
    "# You can create a non-empty dictionary \n",
    "D = {'name':'Mike' , 'AgeRange':[20,50]}\n",
    "\n",
    "D"
   ]
  },
  {
   "cell_type": "code",
   "execution_count": null,
   "metadata": {
    "id": "d6dNyySIL5o-"
   },
   "outputs": [],
   "source": [
    "# retrieve one item\n",
    "D['name']"
   ]
  },
  {
   "cell_type": "code",
   "execution_count": 90,
   "metadata": {
    "id": "ZNkdexckL5pC"
   },
   "outputs": [
    {
     "data": {
      "text/plain": [
       "dict_keys(['name', 'AgeRange'])"
      ]
     },
     "execution_count": 90,
     "metadata": {},
     "output_type": "execute_result"
    }
   ],
   "source": [
    "# list all properties\n",
    "# To check available methods on D, simply type D. -> press tab\n",
    "D.keys()"
   ]
  },
  {
   "cell_type": "raw",
   "metadata": {
    "id": "WljlOT1eL5pE"
   },
   "source": [
    "# test whether a key is in the dictionary\n",
    "'name' in D"
   ]
  },
  {
   "cell_type": "code",
   "execution_count": 91,
   "metadata": {
    "id": "U4LoqZJLL5pH"
   },
   "outputs": [
    {
     "data": {
      "text/plain": [
       "False"
      ]
     },
     "execution_count": 91,
     "metadata": {},
     "output_type": "execute_result"
    }
   ],
   "source": [
    "# Check if key exists in that dictionary\n",
    "'Mike' in D"
   ]
  },
  {
   "cell_type": "code",
   "execution_count": null,
   "metadata": {
    "id": "kVhLa6ptL5pK"
   },
   "outputs": [],
   "source": [
    "'Mike' not in D"
   ]
  },
  {
   "cell_type": "code",
   "execution_count": 88,
   "metadata": {
    "id": "Xx391eR-L5pM"
   },
   "outputs": [
    {
     "data": {
      "text/plain": [
       "dict_values(['Mike', [20, 50]])"
      ]
     },
     "execution_count": 88,
     "metadata": {},
     "output_type": "execute_result"
    }
   ],
   "source": [
    "D.values()"
   ]
  },
  {
   "cell_type": "code",
   "execution_count": 89,
   "metadata": {
    "id": "JpjaS5n5L5pO"
   },
   "outputs": [
    {
     "data": {
      "text/plain": [
       "dict_items([('name', 'Mike'), ('AgeRange', [20, 50])])"
      ]
     },
     "execution_count": 89,
     "metadata": {},
     "output_type": "execute_result"
    }
   ],
   "source": [
    "D.items()"
   ]
  },
  {
   "cell_type": "markdown",
   "metadata": {
    "id": "6LXMsy5xL5pQ"
   },
   "source": [
    "### Exercise"
   ]
  },
  {
   "cell_type": "code",
   "execution_count": null,
   "metadata": {
    "id": "_YrZuSS6L5pR"
   },
   "outputs": [],
   "source": [
    "# Input two numbers from the user. \n",
    "# Create a dictionary with keys 'firstNum', 'secondNum', and 'product'"
   ]
  },
  {
   "cell_type": "code",
   "execution_count": 92,
   "metadata": {
    "id": "KLmXrVllL5pT"
   },
   "outputs": [
    {
     "name": "stdin",
     "output_type": "stream",
     "text": [
      "Give me a number  1\n",
      "Give me another number  2\n"
     ]
    },
    {
     "data": {
      "text/plain": [
       "dict_items([('FirstNum', 1.0), ('SecondNum', 2.0), ('Product', 2.0)])"
      ]
     },
     "execution_count": 92,
     "metadata": {},
     "output_type": "execute_result"
    }
   ],
   "source": [
    "del D\n",
    "D = dict()\n",
    "\n",
    "num1 = float(input('Give me a number '))\n",
    "D['FirstNum'] = num1\n",
    "\n",
    "num2 = float(input('Give me another number '))\n",
    "D['SecondNum'] = num2\n",
    "\n",
    "D['Product'] = num1*num2\n",
    "\n",
    "D.items()"
   ]
  },
  {
   "cell_type": "code",
   "execution_count": null,
   "metadata": {
    "id": "KaclI7PvL5pX"
   },
   "outputs": [],
   "source": []
  }
 ],
 "metadata": {
  "colab": {
   "collapsed_sections": [
    "6BiEBn0YL5mi",
    "SkAeODMlL5mi",
    "1Dvqf6g2L5nJ",
    "mmkfcnJVL5nN",
    "6H0ZmcnHL5n3",
    "GazmOLDGL5oN",
    "W1Zd8vcqL5oN",
    "aBiJ7Mv6L5ot",
    "4A_Io0qcL5o1",
    "yhLuxUWCL5o1",
    "6LXMsy5xL5pQ"
   ],
   "name": "DUDL_python_DataTypes.ipynb",
   "provenance": []
  },
  "kernelspec": {
   "display_name": "Python 3 (ipykernel)",
   "language": "python",
   "name": "python3"
  },
  "language_info": {
   "codemirror_mode": {
    "name": "ipython",
    "version": 3
   },
   "file_extension": ".py",
   "mimetype": "text/x-python",
   "name": "python",
   "nbconvert_exporter": "python",
   "pygments_lexer": "ipython3",
   "version": "3.12.7"
  }
 },
 "nbformat": 4,
 "nbformat_minor": 4
}
